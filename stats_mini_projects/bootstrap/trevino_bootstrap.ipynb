{
 "cells": [
  {
   "cell_type": "markdown",
   "metadata": {},
   "source": [
    "# Inferential Statistics II - Bootstrapping"
   ]
  },
  {
   "cell_type": "code",
   "execution_count": 66,
   "metadata": {},
   "outputs": [],
   "source": [
    "import pandas as pd\n",
    "import numpy as np\n",
    "import matplotlib.pyplot as plt"
   ]
  },
  {
   "cell_type": "markdown",
   "metadata": {},
   "source": [
    "## Medical Charge Data Set"
   ]
  },
  {
   "cell_type": "code",
   "execution_count": 67,
   "metadata": {},
   "outputs": [],
   "source": [
    "medical = pd.read_csv('data/insurance2.csv')"
   ]
  },
  {
   "cell_type": "code",
   "execution_count": 68,
   "metadata": {},
   "outputs": [
    {
     "data": {
      "text/html": [
       "<div>\n",
       "<style scoped>\n",
       "    .dataframe tbody tr th:only-of-type {\n",
       "        vertical-align: middle;\n",
       "    }\n",
       "\n",
       "    .dataframe tbody tr th {\n",
       "        vertical-align: top;\n",
       "    }\n",
       "\n",
       "    .dataframe thead th {\n",
       "        text-align: right;\n",
       "    }\n",
       "</style>\n",
       "<table border=\"1\" class=\"dataframe\">\n",
       "  <thead>\n",
       "    <tr style=\"text-align: right;\">\n",
       "      <th></th>\n",
       "      <th>age</th>\n",
       "      <th>sex</th>\n",
       "      <th>bmi</th>\n",
       "      <th>children</th>\n",
       "      <th>smoker</th>\n",
       "      <th>region</th>\n",
       "      <th>charges</th>\n",
       "      <th>insuranceclaim</th>\n",
       "    </tr>\n",
       "  </thead>\n",
       "  <tbody>\n",
       "    <tr>\n",
       "      <th>0</th>\n",
       "      <td>19</td>\n",
       "      <td>0</td>\n",
       "      <td>27.900</td>\n",
       "      <td>0</td>\n",
       "      <td>1</td>\n",
       "      <td>3</td>\n",
       "      <td>16884.92400</td>\n",
       "      <td>1</td>\n",
       "    </tr>\n",
       "    <tr>\n",
       "      <th>1</th>\n",
       "      <td>18</td>\n",
       "      <td>1</td>\n",
       "      <td>33.770</td>\n",
       "      <td>1</td>\n",
       "      <td>0</td>\n",
       "      <td>2</td>\n",
       "      <td>1725.55230</td>\n",
       "      <td>1</td>\n",
       "    </tr>\n",
       "    <tr>\n",
       "      <th>2</th>\n",
       "      <td>28</td>\n",
       "      <td>1</td>\n",
       "      <td>33.000</td>\n",
       "      <td>3</td>\n",
       "      <td>0</td>\n",
       "      <td>2</td>\n",
       "      <td>4449.46200</td>\n",
       "      <td>0</td>\n",
       "    </tr>\n",
       "    <tr>\n",
       "      <th>3</th>\n",
       "      <td>33</td>\n",
       "      <td>1</td>\n",
       "      <td>22.705</td>\n",
       "      <td>0</td>\n",
       "      <td>0</td>\n",
       "      <td>1</td>\n",
       "      <td>21984.47061</td>\n",
       "      <td>0</td>\n",
       "    </tr>\n",
       "    <tr>\n",
       "      <th>4</th>\n",
       "      <td>32</td>\n",
       "      <td>1</td>\n",
       "      <td>28.880</td>\n",
       "      <td>0</td>\n",
       "      <td>0</td>\n",
       "      <td>1</td>\n",
       "      <td>3866.85520</td>\n",
       "      <td>1</td>\n",
       "    </tr>\n",
       "  </tbody>\n",
       "</table>\n",
       "</div>"
      ],
      "text/plain": [
       "   age  sex     bmi  children  smoker  region      charges  insuranceclaim\n",
       "0   19    0  27.900         0       1       3  16884.92400               1\n",
       "1   18    1  33.770         1       0       2   1725.55230               1\n",
       "2   28    1  33.000         3       0       2   4449.46200               0\n",
       "3   33    1  22.705         0       0       1  21984.47061               0\n",
       "4   32    1  28.880         0       0       1   3866.85520               1"
      ]
     },
     "execution_count": 68,
     "metadata": {},
     "output_type": "execute_result"
    }
   ],
   "source": [
    "medical.head()"
   ]
  },
  {
   "cell_type": "markdown",
   "metadata": {},
   "source": [
    "Having calculated the 95% lower confidence interval using frequentist theory in the previous exercise, you would like to verify your calculations and check you get consistent results without making the assumptions required before. After all, the distribution of charges really was very non-normal."
   ]
  },
  {
   "cell_type": "markdown",
   "metadata": {},
   "source": [
    "__1:__ Use bootstrap sampling to estimate the same 95% confidence interval lower limit as before."
   ]
  },
  {
   "cell_type": "markdown",
   "metadata": {},
   "source": [
    "__A:__ We perform a one variable permutation test in which we draw a bootstrap sample with replacement of the same size as the data itself, 10,000 times, to create a sampling distribution of sample mean. We then create a 95% confidence interval for this distribution."
   ]
  },
  {
   "cell_type": "code",
   "execution_count": 69,
   "metadata": {},
   "outputs": [
    {
     "data": {
      "image/png": "[encoded data removed]",
      "text/plain": [
       "<Figure size 432x288 with 1 Axes>"
      ]
     },
     "metadata": {
      "needs_background": "light"
     },
     "output_type": "display_data"
    },
    {
     "data": {
      "text/plain": [
       "array([12624.86211913])"
      ]
     },
     "execution_count": 69,
     "metadata": {},
     "output_type": "execute_result"
    }
   ],
   "source": [
    "np.random.seed(47)\n",
    "N_rep = 10000\n",
    "\n",
    "df = medical\n",
    "\n",
    "charges = df['charges']\n",
    "sampling_distribution_of_the_mean = np.empty(N_rep)\n",
    "\n",
    "# create sampling distribution\n",
    "for i in range(N_rep):\n",
    "    draw = np.random.choice(charges, size=len(charges))\n",
    "    mean = np.mean(draw)\n",
    "    sampling_distribution_of_the_mean[i] = mean\n",
    "\n",
    "# plot sampling distributon as a histogram\n",
    "plt.hist(sampling_distribution_of_the_mean, bins=int(np.sqrt(len(sampling_distribution_of_the_mean))), density=True, histtype='step')\n",
    "plt.xlabel('mean charge per sample')\n",
    "plt.ylabel('PDF')\n",
    "plt.show()\n",
    "\n",
    "# print results\n",
    "interval = np.percentile(sampling_distribution_of_the_mean, [2.5])\n",
    "mean = np.mean(sampling_distribution_of_the_mean)\n",
    "interval"
   ]
  },
  {
   "cell_type": "markdown",
   "metadata": {},
   "source": [
    "As expected, the sampling distribution of the mean is a normal distribution. According to the 95% confidence interval, the true value of the mean charge will be greater than or equal to \\\\$12,624.86 95\\% of the time; that is, we can say with 95% confidence that\n",
    "\n",
    "\\begin{equation}\n",
    "\\mu_{\\bar x} \\ge $12,624.86\n",
    "\\end{equation}"
   ]
  },
  {
   "cell_type": "markdown",
   "metadata": {},
   "source": [
    "If you performed 10000 replicates immediately after setting the random seed to 47, you should get the value 12724 here, which compares very well with the value 12725 obtained using the _t_-distribution confidence interval previously. It is a most pleasant result to see the predictions of classical frequentist theory match with results that are now possible through the number-crunching ability of computers."
   ]
  },
  {
   "cell_type": "markdown",
   "metadata": {},
   "source": [
    "__2:__ Calculate the 95% confidence interval for the difference between the standard deviations of insurance and non-insurance claim charges (insured - non-insured). Calculate the differences over 10000 replicates. Plot the histogram of values and mark the locations of the percentiles. State the null and alternative hypothesis and comment on whether you would retain or reject the null hypothesis in this case and why."
   ]
  },
  {
   "cell_type": "markdown",
   "metadata": {},
   "source": [
    "__A:__"
   ]
  },
  {
   "cell_type": "code",
   "execution_count": 70,
   "metadata": {},
   "outputs": [],
   "source": [
    "# separate into insurend and uninsured groups\n",
    "insured = medical[medical['insuranceclaim'] == 1]\n",
    "uninsured = medical[medical['insuranceclaim'] == 0]\n",
    "\n",
    "insured_charges = insured['charges']\n",
    "uninsured_charges = uninsured['charges']"
   ]
  },
  {
   "cell_type": "code",
   "execution_count": 71,
   "metadata": {},
   "outputs": [],
   "source": [
    "# function for getting a bootstrap replicate\n",
    "def calculate_replicate(insured_charges, uninsured_charges):\n",
    "    insured_sample = np.random.choice(insured_charges, size=len(insured_charges))\n",
    "    insured_std = np.std(insured_sample)\n",
    "    uninsured_sample = np.random.choice(uninsured_charges, size=len(uninsured_charges))\n",
    "    uninsured_std = np.std(uninsured_sample)\n",
    "    return insured_std - uninsured_std"
   ]
  },
  {
   "cell_type": "code",
   "execution_count": 72,
   "metadata": {},
   "outputs": [],
   "source": [
    "# create a distribution of 10,000 replicates\n",
    "N_rep = 10000\n",
    "\n",
    "std_diff_replicates = np.empty(N_rep)\n",
    "for i in range(10000):\n",
    "    std_diff_replicates[i] = calculate_replicate(insured_charges, uninsured_charges)\n",
    "    "
   ]
  },
  {
   "cell_type": "code",
   "execution_count": 73,
   "metadata": {},
   "outputs": [
    {
     "data": {
      "text/plain": [
       "array([6676.06177337, 8486.94648372])"
      ]
     },
     "execution_count": 73,
     "metadata": {},
     "output_type": "execute_result"
    }
   ],
   "source": [
    "# calculate the 95% confidence interval\n",
    "\n",
    "interval = np.percentile(std_diff_replicates, [2.5, 97.5])\n",
    "interval"
   ]
  },
  {
   "cell_type": "markdown",
   "metadata": {},
   "source": [
    "With 95% confidence, the true value of the difference in standard deviations between insured and uninsured patients lies between \\\\$6,678.65 and \\\\$8,513.05."
   ]
  },
  {
   "cell_type": "code",
   "execution_count": 74,
   "metadata": {},
   "outputs": [
    {
     "data": {
      "image/png": "[encoded data removed]",
      "text/plain": [
       "<Figure size 432x288 with 1 Axes>"
      ]
     },
     "metadata": {
      "needs_background": "light"
     },
     "output_type": "display_data"
    }
   ],
   "source": [
    "# plot the histogram with marked percentiles\n",
    "\n",
    "# histogram\n",
    "plt.hist(std_diff_replicates, bins=int(np.sqrt(len(sampling_distribution_of_the_mean))), density=True, histtype='step')\n",
    "plt.xlabel('difference in standard deviation per sample')\n",
    "plt.ylabel('PDF')\n",
    "\n",
    "# calculate and plot percentile lines\n",
    "percentiles = np.array([0, 25, 50, 75, 100])\n",
    "ptiles_std_diff = np.percentile(std_diff_replicates, percentiles)\n",
    "[plt.axvline(x, color='r') for x in ptiles_std_diff]\n",
    "\n",
    "plt.show()"
   ]
  },
  {
   "cell_type": "markdown",
   "metadata": {},
   "source": [
    "$H_0$: There isn't a difference in the standard deviations of insured and uninsured patients' charges.\n",
    "\n",
    "\\begin{equation}\n",
    "\\sigma_{insured} - \\sigma_{uninsured} = 0\n",
    "\\end{equation}\n",
    "\n",
    "$H_a$: There is a significant difference.\n",
    "\n",
    "\\begin{equation}\n",
    "\\sigma_{insured} - \\sigma_{uninsured} \\ne 0\n",
    "\\end{equation}\n",
    "\n",
    "In this case, we should reject the null hypothesis, because the confidence interval shows that we get a value substantially higher than 0 in 95% of the trials."
   ]
  },
  {
   "cell_type": "markdown",
   "metadata": {},
   "source": [
    "__3:__ Perform a bootstrapped hypothesis test at the 5% significance level ($\\alpha = 0.05$) to calculate the p-value of the observed difference between insurance and non-insurance charges, state your null and alternative hypotheses and whether you retain or reject the null hypothesis for the given significance level."
   ]
  },
  {
   "cell_type": "markdown",
   "metadata": {},
   "source": [
    "__A:__ \n",
    "\n",
    "$H_0$: There isn't a difference in the standard deviations of insured and uninsured patients' charges.\n",
    "\n",
    "\\begin{equation}\n",
    "\\sigma_{insured} - \\sigma_{uninsured} = 0\n",
    "\\end{equation}\n",
    "\n",
    "$H_a$: There is a significant difference.\n",
    "\n",
    "\\begin{equation}\n",
    "\\lvert\\sigma_{insured} - \\sigma_{uninsured}\\rvert \\gt 0\n",
    "\\end{equation}\n",
    "\n",
    "To simulate the null hypothesis, we perform a two group permutation test. We permute the two groups into two new groups with identical standard deviations, and then we calculate 10,000 replicates from these groups. Then we see what percent of the time we got a difference equal to or larger than the observed difference."
   ]
  },
  {
   "cell_type": "code",
   "execution_count": 75,
   "metadata": {},
   "outputs": [
    {
     "data": {
      "text/plain": [
       "7596.256408655182"
      ]
     },
     "execution_count": 75,
     "metadata": {},
     "output_type": "execute_result"
    }
   ],
   "source": [
    "# calculate the observed value\n",
    "observed_std_diff = np.std(insured_charges) - np.std(uninsured_charges)\n",
    "observed_std_diff"
   ]
  },
  {
   "cell_type": "markdown",
   "metadata": {},
   "source": [
    "There's an observed difference of standard deviations between insured and uninsured patients of \\\\$7,596.26."
   ]
  },
  {
   "cell_type": "code",
   "execution_count": 76,
   "metadata": {},
   "outputs": [],
   "source": [
    "# permute the groups\n",
    "def permutation_sample(data1, data2):\n",
    "    \"\"\"Generate a permutation sample from two data sets.\"\"\"\n",
    "\n",
    "    # Concatenate the data sets: data\n",
    "    data = np.concatenate((data1, data2))\n",
    "\n",
    "    # Permute the concatenated array: permuted_data\n",
    "    permuted_data = np.random.permutation(data)\n",
    "\n",
    "    # Split the permuted array into two: perm_sample_1, perm_sample_2\n",
    "    perm_sample_1 = permuted_data[:len(data1)]\n",
    "    perm_sample_2 = permuted_data[len(data1):]\n",
    "\n",
    "    return perm_sample_1, perm_sample_2"
   ]
  },
  {
   "cell_type": "code",
   "execution_count": 77,
   "metadata": {},
   "outputs": [],
   "source": [
    "# create a bootstrap replicate from the two groups\n",
    "def get_bootstrap_replicate(group1, group2):\n",
    "    permuted_1, permuted_2 = permutation_sample(group1, group2)\n",
    "    return abs(np.std(permuted_1) - np.std(permuted_2))"
   ]
  },
  {
   "cell_type": "code",
   "execution_count": 78,
   "metadata": {},
   "outputs": [
    {
     "data": {
      "text/plain": [
       "array([  79.86352244,  126.25767593, 1047.9453537 , ..., 1162.83086368,\n",
       "        118.69369249,  674.46046834])"
      ]
     },
     "execution_count": 78,
     "metadata": {},
     "output_type": "execute_result"
    }
   ],
   "source": [
    "# calcualte 10000 replicates\n",
    "N_rep = 10000\n",
    "bs_replicates = np.empty(N_rep)\n",
    "\n",
    "for i in range(N_rep):\n",
    "    bs_replicates[i] = get_bootstrap_replicate(insured_charges, uninsured_charges)\n",
    "\n",
    "bs_replicates"
   ]
  },
  {
   "cell_type": "code",
   "execution_count": 79,
   "metadata": {},
   "outputs": [
    {
     "data": {
      "text/plain": [
       "0.0"
      ]
     },
     "execution_count": 79,
     "metadata": {},
     "output_type": "execute_result"
    }
   ],
   "source": [
    "# calculate the p value\n",
    "p = np.sum([bs_replicates >= observed_std_diff])/len(bs_replicates)\n",
    "p"
   ]
  },
  {
   "cell_type": "markdown",
   "metadata": {},
   "source": [
    "We get a value as extreme or more extreme than the observed value 0% of the time, well within our $\\alpha$ of 5%. For this reason, we should reject the null hypothesis that there is no difference in standard deviations between the charges for insured and uninsured patients."
   ]
  },
  {
   "cell_type": "markdown",
   "metadata": {},
   "source": [
    "__4:__ To put the above result in perspective, plot the histogram of your bootstrapped differences along with lines marking the locations of the observed difference. (Why would we plot more than one line, given that we only have one observed difference?)"
   ]
  },
  {
   "cell_type": "markdown",
   "metadata": {},
   "source": [
    "__A:__"
   ]
  },
  {
   "cell_type": "code",
   "execution_count": 80,
   "metadata": {},
   "outputs": [
    {
     "data": {
      "image/png": "[encoded data removed]",
      "text/plain": [
       "<Figure size 432x288 with 1 Axes>"
      ]
     },
     "metadata": {
      "needs_background": "light"
     },
     "output_type": "display_data"
    }
   ],
   "source": [
    "# plot the histogram with observed values marked\n",
    "# histogram\n",
    "plt.hist(bs_replicates, bins=int(np.sqrt(len(sampling_distribution_of_the_mean))), density=True, histtype='step')\n",
    "plt.xlabel('Bootstrap Replicate Sigma Diff (10,000 Replicates)')\n",
    "plt.ylabel('PDF')\n",
    "\n",
    "# calculate and plot observed value lines\n",
    "# percentiles = np.array([0, 25, 50, 75, 100])\n",
    "# ptiles_std_diff = np.percentile(std_diff_replicates, percentiles)\n",
    "plt.axvline(np.std(insured_charges), color='b')\n",
    "plt.axvline(np.std(uninsured_charges), color='g')\n",
    "plt.axvline(observed_std_diff, color='r')\n",
    "plt.legend(('observed sigma insured', 'observed sigma uninsured', 'observed sigma diff'), loc='lower right')\n",
    "\n",
    "plt.show()"
   ]
  },
  {
   "cell_type": "markdown",
   "metadata": {},
   "source": [
    "__5:__ Compare your p-value above with that obtained using the _t_-test function in the previous assignment. Do you think you would want to try to perform enough bootstrap replicates to observe a random difference as large as that we did observe?"
   ]
  },
  {
   "cell_type": "markdown",
   "metadata": {},
   "source": [
    "__A:__ The previous assignment's t test calculated a p value of 0.000130171652092872 for the null hypothesis that insured and uninsured groups had the same mean charges. This value indicates that we would get the observed value about 1 in every 10,000 trials; however, the bootstrap test p-value just measured for the null hypothesis that insured and uninsured groups have the same standard deviation calculated was even smaller: we saw the observed result in 0 trials out of 10,000. Moreover, the confidence interval calculated on the observed data indicate that it would be exceptionally rare to see the observed value result from a permutation hypothesis test. I would probably not want to try to perform enough bootstrap replicates to observe a random difference as large as that observed in the data."
   ]
  },
  {
   "cell_type": "markdown",
   "metadata": {},
   "source": [
    "__6:__ Remember the two variants of the _t_-test we performed in the previous assignment. Which one would you use now?"
   ]
  },
  {
   "cell_type": "markdown",
   "metadata": {},
   "source": [
    "__A:__ The bootstrap test has shown that the two groups' standard deviations vary substantially, which means the two groups variances also differ substantially. This means we would need to use the variance of the pooled t-test that doesn't assume the two groups to have the same variance."
   ]
  },
  {
   "cell_type": "markdown",
   "metadata": {},
   "source": [
    "__7:__ If, instead of being asked whether the means of two groups were different, you were working with an ad-recommender team who wanted to release a new recommendation algorithm, and you were looking at click-through rate both for the current algorithm (call it A) and from trials of their new algorithm (call it B), would you perform a two-sided test as above? What would be your null and alternative hypotheses and what would be the real world consequence of rejecting the null hypothesis?"
   ]
  },
  {
   "cell_type": "markdown",
   "metadata": {},
   "source": [
    "__A:__ A two-sided permutation test as above would be appropriate for an A/B test. The test statistic would now be the observed proportion of people who clicked through in condition B. The replicate function would permute groups A and B into two groups equally likely to have clicked through and return the proportion of people in condition B who clicked through. The p value would describe the likelihood of seeing the observed click-through rate in condition B given that people are equally likely to click through in conditions A and B.\n",
    "\n",
    "$H_0$: The same proportion of people click through under both the current and new algorithms.\n",
    "\n",
    "$H_a$: A higher proportion of people click through under the new algorithm than under the old.\n",
    "\n",
    "The real-world consequence of rejecting the null hypothesis in this case would be to confirm that the new algorithm results in a higher click-through rate."
   ]
  }
 ],
 "metadata": {
  "kernelspec": {
   "display_name": "Python 3",
   "language": "python",
   "name": "python3"
  },
  "language_info": {
   "codemirror_mode": {
    "name": "ipython",
    "version": 3
   },
   "file_extension": ".py",
   "mimetype": "text/x-python",
   "name": "python",
   "nbconvert_exporter": "python",
   "pygments_lexer": "ipython3",
   "version": "3.7.3"
  }
 },
 "nbformat": 4,
 "nbformat_minor": 2
}
