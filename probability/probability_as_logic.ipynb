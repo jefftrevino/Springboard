{
 "cells": [
  {
   "cell_type": "markdown",
   "metadata": {},
   "source": [
    "# Probability as Logic"
   ]
  },
  {
   "cell_type": "markdown",
   "metadata": {},
   "source": [
    "This notebook contains my notes on Jaynes' *Probability Theory*."
   ]
  },
  {
   "cell_type": "markdown",
   "metadata": {},
   "source": [
    "### Contents\n",
    "\n",
    "1. Symbolic Logic (Boolean Algebra)"
   ]
  },
  {
   "cell_type": "markdown",
   "metadata": {},
   "source": [
    "### 1. Introduction to Symbolic Logic (Boolean Algebra)"
   ]
  },
  {
   "cell_type": "markdown",
   "metadata": {},
   "source": [
    "$AB$ *logical product* or *conjunction* \"Both A and B are true.\" \n",
    "\n",
    "$A = B$ \"A and B have the same truth value.\"\n",
    "\n",
    "$A \\equiv B$ \"A equals B by definition.\"\n",
    "\n",
    "$A+B$ *logical sum* or *disjunction* \"At least one of A and B is true.\""
   ]
  },
  {
   "cell_type": "markdown",
   "metadata": {},
   "source": [
    "#### Coping with Denial\n",
    "\n",
    "$\\overline A \\equiv$ \"A is false.\"\n",
    "\n",
    "$A = \\overline{A}$ False.\n",
    "\n",
    "$\\overline A = A$ Also false.\n",
    "\n",
    "$\\overline A\\, \\overline B$ = Both $A$ and $B$ are false. (logical product/conjunction)\n",
    "\n",
    "$\\overline{AB} = \\overline A + \\overline B = AB$ is false. (logical sum/disjunction)"
   ]
  },
  {
   "cell_type": "markdown",
   "metadata": {},
   "source": [
    "#### \"Trivial and Obvious\" Basic Identities"
   ]
  },
  {
   "cell_type": "markdown",
   "metadata": {},
   "source": [
    "*Idempotence*\n",
    "\n",
    "*Commutativity*\n",
    "\n",
    "*Associativity*\n",
    "\n",
    "*Distributivity*\n",
    "\n",
    "*Duality*"
   ]
  },
  {
   "cell_type": "code",
   "execution_count": null,
   "metadata": {},
   "outputs": [],
   "source": []
  }
 ],
 "metadata": {
  "kernelspec": {
   "display_name": "Python 3",
   "language": "python",
   "name": "python3"
  },
  "language_info": {
   "codemirror_mode": {
    "name": "ipython",
    "version": 3
   },
   "file_extension": ".py",
   "mimetype": "text/x-python",
   "name": "python",
   "nbconvert_exporter": "python",
   "pygments_lexer": "ipython3",
   "version": "3.7.3"
  }
 },
 "nbformat": 4,
 "nbformat_minor": 2
}
