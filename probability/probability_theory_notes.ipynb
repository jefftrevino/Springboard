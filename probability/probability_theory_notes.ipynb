{
 "cells": [
  {
   "cell_type": "markdown",
   "metadata": {},
   "source": [
    "# Probability Theory Notes"
   ]
  },
  {
   "cell_type": "markdown",
   "metadata": {},
   "source": [
    "### Contents\n",
    "1. Relative Complement or Difference Between Sets"
   ]
  },
  {
   "cell_type": "markdown",
   "metadata": {},
   "source": [
    "### 1. Relative Complement or Difference Between Sets"
   ]
  },
  {
   "cell_type": "markdown",
   "metadata": {},
   "source": [
    "What's in set A that isn't in set B? \n",
    "\n",
    "$A = \\{5, 3, 17, 12, 19\\}$\n",
    "\n",
    "$B = \\{17, 19, 6\\}$\n",
    "\n",
    "$A - B = \\{5, 3, 12\\}$\n",
    "\n",
    "$A - B$ is the *relative complement* of set B in set A. (Set A with any Set B elements removed.)\n",
    "\n",
    "Notation: $A\\setminus B$\n",
    "\n",
    "$B\\setminus A = \\{6\\}$\n",
    "\n",
    "$A\\setminus A = \\{\\} = \\varnothing $"
   ]
  },
  {
   "cell_type": "code",
   "execution_count": 28,
   "metadata": {},
   "outputs": [],
   "source": [
    "A = set([5, 3, 17, 12, 19])\n",
    "B = set([17, 19, 6])"
   ]
  },
  {
   "cell_type": "code",
   "execution_count": 29,
   "metadata": {},
   "outputs": [
    {
     "data": {
      "text/plain": [
       "{3, 5, 12}"
      ]
     },
     "execution_count": 29,
     "metadata": {},
     "output_type": "execute_result"
    }
   ],
   "source": [
    "A - B"
   ]
  },
  {
   "cell_type": "code",
   "execution_count": 30,
   "metadata": {},
   "outputs": [
    {
     "data": {
      "text/plain": [
       "{3, 5, 12}"
      ]
     },
     "execution_count": 30,
     "metadata": {},
     "output_type": "execute_result"
    }
   ],
   "source": [
    "A.difference(B)"
   ]
  },
  {
   "cell_type": "markdown",
   "metadata": {},
   "source": [
    "### 2. Universal Set and Absolute Complement"
   ]
  },
  {
   "cell_type": "markdown",
   "metadata": {},
   "source": [
    "$U$ is the set of all things in the universe.\n",
    "\n",
    "$A'$ is the set of all things in the universe that aren't in $A$.\n",
    "\n",
    "$A' = U \\setminus A$"
   ]
  },
  {
   "cell_type": "markdown",
   "metadata": {},
   "source": [
    "### 3. Common Sets of Numbers"
   ]
  },
  {
   "cell_type": "markdown",
   "metadata": {},
   "source": [
    "$\\mathbb{Z}$ is the set of all integers (German \"Zahl\").\n",
    "\n",
    "$\\mathbb{R}$ is the set of all real numbers.\n",
    "\n",
    "$\\mathbb{Q}$ is the set of all rational numbers."
   ]
  },
  {
   "cell_type": "markdown",
   "metadata": {},
   "source": [
    "### 4. Set Membership\n",
    "\n",
    "$-5 \\in C$ means that -5 is in set C.\n",
    "$-8 \\notin C$ means that -8 isn't in set C."
   ]
  },
  {
   "cell_type": "code",
   "execution_count": 6,
   "metadata": {},
   "outputs": [],
   "source": [
    "C = set([1,2,3, -5])"
   ]
  },
  {
   "cell_type": "code",
   "execution_count": 7,
   "metadata": {},
   "outputs": [
    {
     "data": {
      "text/plain": [
       "True"
      ]
     },
     "execution_count": 7,
     "metadata": {},
     "output_type": "execute_result"
    }
   ],
   "source": [
    "-5 in C"
   ]
  },
  {
   "cell_type": "code",
   "execution_count": 8,
   "metadata": {},
   "outputs": [
    {
     "data": {
      "text/plain": [
       "False"
      ]
     },
     "execution_count": 8,
     "metadata": {},
     "output_type": "execute_result"
    }
   ],
   "source": [
    "-8 in C"
   ]
  },
  {
   "cell_type": "markdown",
   "metadata": {},
   "source": [
    "### 5. Subset, Strict Subset, Superset"
   ]
  },
  {
   "cell_type": "markdown",
   "metadata": {},
   "source": [
    "If every item of $B$ is in $A$, then $B$ is a *subset* of $A$: $B \\subseteq A$"
   ]
  },
  {
   "cell_type": "markdown",
   "metadata": {},
   "source": [
    "If $B$ is a subset of $A$ and $B$ doesn't equal $A$, $B$ is a *strict (proper) subset* of $A$: $B \\subset A$"
   ]
  },
  {
   "cell_type": "markdown",
   "metadata": {},
   "source": [
    "(The hoop notation points to the contained set; the presence of a line means \"or equal to.\")"
   ]
  },
  {
   "cell_type": "markdown",
   "metadata": {},
   "source": [
    "If $A$ contains $B$, then $A$ is a *superset* of $B$: $A \\supseteq B$"
   ]
  },
  {
   "cell_type": "markdown",
   "metadata": {},
   "source": [
    "If $A$ contains $B$ and $A$ isn't equal to $B$, then $A$ is a *proper superset* of $B$: $A \\supset B$"
   ]
  },
  {
   "cell_type": "code",
   "execution_count": 16,
   "metadata": {},
   "outputs": [],
   "source": [
    "A = set([1, 2, 3, 4, 5])\n",
    "B = set([3, 4])\n",
    "C= set([3, 4, -300])"
   ]
  },
  {
   "cell_type": "code",
   "execution_count": 17,
   "metadata": {},
   "outputs": [
    {
     "data": {
      "text/plain": [
       "True"
      ]
     },
     "execution_count": 17,
     "metadata": {},
     "output_type": "execute_result"
    }
   ],
   "source": [
    "B.issubset(A)"
   ]
  },
  {
   "cell_type": "code",
   "execution_count": 18,
   "metadata": {},
   "outputs": [
    {
     "data": {
      "text/plain": [
       "False"
      ]
     },
     "execution_count": 18,
     "metadata": {},
     "output_type": "execute_result"
    }
   ],
   "source": [
    "C.issubset(A)"
   ]
  },
  {
   "cell_type": "code",
   "execution_count": 19,
   "metadata": {},
   "outputs": [
    {
     "data": {
      "text/plain": [
       "True"
      ]
     },
     "execution_count": 19,
     "metadata": {},
     "output_type": "execute_result"
    }
   ],
   "source": [
    "A.issuperset(B)"
   ]
  },
  {
   "cell_type": "markdown",
   "metadata": {},
   "source": [
    "### 6. Union and Intersection"
   ]
  },
  {
   "cell_type": "markdown",
   "metadata": {},
   "source": [
    "The union of sets $A$ and $B$ is set $C$ containing anything in $A$ or $B$. $C = A\\cup B$"
   ]
  },
  {
   "cell_type": "code",
   "execution_count": 20,
   "metadata": {},
   "outputs": [
    {
     "data": {
      "text/plain": [
       "{1, 2, 3, 4, 5}"
      ]
     },
     "execution_count": 20,
     "metadata": {},
     "output_type": "execute_result"
    }
   ],
   "source": [
    "A = set([1, 2, 3])\n",
    "B = set([3, 3, 3, 4, 5])\n",
    "A.union(B)"
   ]
  },
  {
   "cell_type": "markdown",
   "metadata": {},
   "source": [
    "The intersection of sets $A$ and $B$ is set $C$ containing anything in both $A$ and $B$. $C = A\\cap B$"
   ]
  },
  {
   "cell_type": "code",
   "execution_count": 21,
   "metadata": {},
   "outputs": [
    {
     "data": {
      "text/plain": [
       "{3}"
      ]
     },
     "execution_count": 21,
     "metadata": {},
     "output_type": "execute_result"
    }
   ],
   "source": [
    "A.intersection(B)"
   ]
  },
  {
   "cell_type": "markdown",
   "metadata": {},
   "source": [
    "### 7. Combining Set Operations"
   ]
  },
  {
   "cell_type": "markdown",
   "metadata": {},
   "source": [
    "$A = \\{3, 7, -5, 0, 13\\}$\n",
    "\n",
    "$B = \\{0, 17, 3, x, y\\}$\n",
    "\n",
    "$C = \\{z, y, 3, 17\\}$\n",
    "\n",
    "Evaluate $( A \\setminus (A \\cap (B\\setminus C)')) \\cup (B\\cap C)$"
   ]
  },
  {
   "cell_type": "code",
   "execution_count": 41,
   "metadata": {},
   "outputs": [],
   "source": [
    "# build up the answer gradually\n",
    "\n",
    "x = -30\n",
    "y = -11111\n",
    "z = 42\n",
    "\n",
    "A = set([3, 7, -5, 0, 13])\n",
    "B = set([0, 17, 3, x, y])\n",
    "C = set([z, y, 3, 17])\n",
    "U = A.union(B).union(C)"
   ]
  },
  {
   "cell_type": "markdown",
   "metadata": {},
   "source": [
    "$B\\cap C$"
   ]
  },
  {
   "cell_type": "code",
   "execution_count": 42,
   "metadata": {},
   "outputs": [
    {
     "data": {
      "text/plain": [
       "{-11111, 3, 17}"
      ]
     },
     "execution_count": 42,
     "metadata": {},
     "output_type": "execute_result"
    }
   ],
   "source": [
    "right_side = B.intersection(C)\n",
    "right_side"
   ]
  },
  {
   "cell_type": "markdown",
   "metadata": {},
   "source": [
    "$B\\setminus C$"
   ]
  },
  {
   "cell_type": "code",
   "execution_count": 43,
   "metadata": {},
   "outputs": [
    {
     "data": {
      "text/plain": [
       "{-30, 0}"
      ]
     },
     "execution_count": 43,
     "metadata": {},
     "output_type": "execute_result"
    }
   ],
   "source": [
    "B.difference(C)"
   ]
  },
  {
   "cell_type": "markdown",
   "metadata": {},
   "source": [
    "$(B\\setminus C)'$"
   ]
  },
  {
   "cell_type": "code",
   "execution_count": 44,
   "metadata": {},
   "outputs": [
    {
     "data": {
      "text/plain": [
       "{-11111, -5, 3, 7, 13, 17, 42}"
      ]
     },
     "execution_count": 44,
     "metadata": {},
     "output_type": "execute_result"
    }
   ],
   "source": [
    "U.difference(B.difference(C))"
   ]
  },
  {
   "cell_type": "markdown",
   "metadata": {},
   "source": [
    "$ A\\cap (B\\setminus C)'$"
   ]
  },
  {
   "cell_type": "code",
   "execution_count": 45,
   "metadata": {},
   "outputs": [
    {
     "data": {
      "text/plain": [
       "{-5, 3, 7, 13}"
      ]
     },
     "execution_count": 45,
     "metadata": {},
     "output_type": "execute_result"
    }
   ],
   "source": [
    "A.intersection(U.difference(B.difference(C)))"
   ]
  },
  {
   "cell_type": "markdown",
   "metadata": {},
   "source": [
    "$A \\setminus ( A\\cap (B\\setminus C)'$)"
   ]
  },
  {
   "cell_type": "code",
   "execution_count": 46,
   "metadata": {},
   "outputs": [
    {
     "data": {
      "text/plain": [
       "{0}"
      ]
     },
     "execution_count": 46,
     "metadata": {},
     "output_type": "execute_result"
    }
   ],
   "source": [
    "A.difference(A.intersection(U.difference(B.difference(C))))"
   ]
  },
  {
   "cell_type": "markdown",
   "metadata": {},
   "source": [
    "$A \\setminus ( A\\cap (B\\setminus C)') \\cup (B\\cap C) $"
   ]
  },
  {
   "cell_type": "code",
   "execution_count": 47,
   "metadata": {},
   "outputs": [
    {
     "data": {
      "text/plain": [
       "{-11111, 0, 3, 17}"
      ]
     },
     "execution_count": 47,
     "metadata": {},
     "output_type": "execute_result"
    }
   ],
   "source": [
    "A.difference(A.intersection(U.difference(B.difference(C)))).union(B.intersection(C))"
   ]
  },
  {
   "cell_type": "markdown",
   "metadata": {},
   "source": [
    "$A \\setminus ( A\\cap (B\\setminus C)') \\cup (B\\cap C) = \\{0, 3, 17, y\\}$"
   ]
  },
  {
   "cell_type": "markdown",
   "metadata": {},
   "source": [
    "### 8. Addition Rule for Probability"
   ]
  },
  {
   "cell_type": "markdown",
   "metadata": {},
   "source": [
    "What's the probability that a playing card is either a Jack or a Heart? \n",
    "\n",
    "$P(A\\cup B) = P(A) + P(B) - P(A\\cap B)$\n",
    "\n",
    "Intuition: We subtract out the member of both sets to avoid double counting. The intersection in this case is the set containing only the jack of hearts."
   ]
  },
  {
   "cell_type": "code",
   "execution_count": 56,
   "metadata": {},
   "outputs": [],
   "source": [
    "A = set(['j' + str(x) for x in ['s', 'c', 'h', 'd']]) # four jacks\n",
    "B = set([str(x) + 'h' for x in [2, 3, 4, 5, 6, 7, 8, 9, 10, 'j', 'k', 'q', 'a']]) # thirteen hearts"
   ]
  },
  {
   "cell_type": "code",
   "execution_count": 58,
   "metadata": {},
   "outputs": [
    {
     "data": {
      "text/plain": [
       "{'jc', 'jd', 'jh', 'js'}"
      ]
     },
     "execution_count": 58,
     "metadata": {},
     "output_type": "execute_result"
    }
   ],
   "source": [
    "A"
   ]
  },
  {
   "cell_type": "code",
   "execution_count": 59,
   "metadata": {},
   "outputs": [
    {
     "data": {
      "text/plain": [
       "{'10h', '2h', '3h', '4h', '5h', '6h', '7h', '8h', '9h', 'ah', 'jh', 'kh', 'qh'}"
      ]
     },
     "execution_count": 59,
     "metadata": {},
     "output_type": "execute_result"
    }
   ],
   "source": [
    "B"
   ]
  },
  {
   "cell_type": "code",
   "execution_count": 74,
   "metadata": {},
   "outputs": [
    {
     "data": {
      "text/plain": [
       "16"
      ]
     },
     "execution_count": 74,
     "metadata": {},
     "output_type": "execute_result"
    }
   ],
   "source": [
    "len(A.union(B))"
   ]
  },
  {
   "cell_type": "code",
   "execution_count": 75,
   "metadata": {},
   "outputs": [
    {
     "data": {
      "text/plain": [
       "17"
      ]
     },
     "execution_count": 75,
     "metadata": {},
     "output_type": "execute_result"
    }
   ],
   "source": [
    "len(A) + len(B)"
   ]
  },
  {
   "cell_type": "code",
   "execution_count": 76,
   "metadata": {},
   "outputs": [
    {
     "data": {
      "text/plain": [
       "0.9411764705882353"
      ]
     },
     "execution_count": 76,
     "metadata": {},
     "output_type": "execute_result"
    }
   ],
   "source": [
    "16/17"
   ]
  },
  {
   "cell_type": "markdown",
   "metadata": {},
   "source": [
    "### 9. Probability of a Compound Event of Independent Probabilities"
   ]
  },
  {
   "cell_type": "markdown",
   "metadata": {},
   "source": [
    "What's the probability of getting two heads on two coin flips?\n",
    "\n",
    "$P(HH) = P(H)P(H)$"
   ]
  },
  {
   "cell_type": "markdown",
   "metadata": {},
   "source": [
    "With three flips, what is $P(H\\ge 1)$\n",
    "\n",
    "$P(H\\ge 1) = P(H=1) + P(H=2) + P(H=3) = 1 - P(T=3) = 1 - \\frac{1}{2}^3 = \\frac{7}{8}$\n",
    "\n",
    "What is $P(H\\ge n)$?\n",
    "\n",
    "$1 - P(T=n) = 1 - \\frac{1}{2}^n$\n",
    "\n",
    "More generally still, for $n$ independent events, $P(success \\ge 1) = 1 - P(failures=n)$"
   ]
  },
  {
   "cell_type": "markdown",
   "metadata": {},
   "source": [
    "### 10. Probability of a Compound Event of Dependent Probabilities"
   ]
  },
  {
   "cell_type": "markdown",
   "metadata": {},
   "source": [
    "A sack contains 3 green marbles and 2 red marbles. What's the probability of drawing two green marbles without replacement? \n",
    "\n",
    "$P(2G) = P(G)P(G|1G)$ \n",
    "\n",
    "\"The probability that we choose a first green marble times the probability of drawing a green marble given that the first was green.\""
   ]
  },
  {
   "cell_type": "markdown",
   "metadata": {},
   "source": [
    "In a bag of 8 coins, 3 are unfair ($P(H)=.6$) and 5 are fair. You draw one from the bag and flip it twice. What's the probability of getting 2 heads?\n",
    "\n",
    "$P(HH) = P(HH|Fair) + P(HH|Unfair) = \\frac{5}{8}\\cdot \\frac{1}{2}^2 + \\frac{3}{8}\\cdot \\frac{3}{5}^2$"
   ]
  },
  {
   "cell_type": "markdown",
   "metadata": {},
   "source": [
    "### 11. Independent and Dependent Probability\n"
   ]
  },
  {
   "cell_type": "markdown",
   "metadata": {},
   "source": [
    "In general $P($$A$ and $B$$) = P(A)P(B|A)$. In the case of indepedent events, $P(B|A)=P(B)$ and $P($$A$ and $B$$) = P(A)P(B)$"
   ]
  },
  {
   "cell_type": "markdown",
   "metadata": {},
   "source": [
    "### 12. Conditional Probability and Bayes' Theorem"
   ]
  },
  {
   "cell_type": "markdown",
   "metadata": {},
   "source": [
    "Draw trees and trace probabilities down each branch to use this conditional probability theorem:\n",
    "$P(A|B) = \\frac{P(A\\cap B)}{P(B)}$\n",
    "\n",
    "$P(A\\cap B)$ This means trace the probability tree through two branches: one to A and another to B. (Random selection might mean you keep track of both sides at a branching at some point.)"
   ]
  },
  {
   "cell_type": "markdown",
   "metadata": {},
   "source": [
    "Two views of $P($$A$ and $B$$)$:\n",
    "\n",
    "1. $P(A|B)P(B)$ \"The probability of (1) B hapenning and then (2) A happening given that B happened.\"\n",
    "\n",
    "2. $P(B|A)P(A)$ \"The probability of (1) A hapenning and then (2) B happening given that A happened.\"\n",
    "\n",
    "Setting these two equal to each other allows us to solve for $P(A|B)$ or $P(B|A)$ given $P(A), P(B)$ and one of the two dependent probabilities $P(A|B)$ (which allows us to solve for $P(B|A)$) or $P(B|A)$ (which allows us to solve for $P(A|B)$.\n",
    "\n",
    "Bayes' Theorem uses this equality to relate the probability of some event A given evidence B and the probability of B given evidence A: \n",
    "\n",
    "$P(A|B) = \\frac{P(B|A)P(A)}{P(B)}$\n",
    "\n",
    "$P(B|A) = \\frac{P(A|B)P(B)}{P(A)}$\n",
    "\n",
    "Multiplying by inverted ratios of the independent probabilities toggles the temporal order of events."
   ]
  },
  {
   "cell_type": "markdown",
   "metadata": {},
   "source": [
    "#### Simple Conditional Examples\n"
   ]
  },
  {
   "cell_type": "markdown",
   "metadata": {},
   "source": [
    "__1.__ Of 100 students asked their preferred superpower, 48 male and 52 female, 38 said they'd prefer to fly, 26 of whom were male.\n",
    "\n",
    "What's the probability that a student is male, given that they'd prefer to fly?\n",
    "\n",
    "You're looking for a subset of a probability: the probability of a male, given flying preference.\n",
    "\n",
    "Of 38 flying students, 26 were male. $P(male|flying)=\\frac{P(male and fly)}{P(fly)} = \\frac{26}{38} = 0.68$\n",
    "\n",
    "What's the probability a student would prefer to fly, given that he is male?\n",
    "\n",
    "Of 48 male students, 26 prefer flight. $P(flying|male)=\\frac{P(male and fly)}{P(male)} = \\frac{26}{48} = 0.542$"
   ]
  },
  {
   "cell_type": "markdown",
   "metadata": {},
   "source": [
    "__2.__ A drug test has a false positive rate of 2\\% and a false negative rate of 1\\%. 5\\% of employees are on drugs at work. If someone tests positive, what's the probability they're really using drugs?\n",
    "\n",
    "To find $P(+)$, apply the false negative rate to those on drugs and the false positive rate to those not: \n",
    "\n",
    "$P(+) = .05(1-.01) + .95 \\cdot .02 = .0495 + .019 = .0685$\n",
    "\n",
    "$P(drugs and +)$ These are the folks on drugs minus the false negatives: $.05(1-.01) = .0495$\n",
    "\n",
    "$P(drugs|+) = \\frac{P(drugs and +)}{P(+)} = \\frac{.0495}{.0685} = 0.723$"
   ]
  },
  {
   "cell_type": "markdown",
   "metadata": {},
   "source": [
    "### 13. Conditional Probability and Independence\n",
    "\n",
    "If $P(A|B)=P(A)$ and $P(B|A)=P(B)$, then $A$ and $B$ are independent.\n",
    "\n",
    "Also, if $P(A and B) = P(A)P(B)$, then $A$ and $B$ are independent.\n",
    "\n",
    "An event is independent of itself when it doesn't need to happen to know its likelihood. This is only true when the probability is 0 or 1. $P(A and A) = P(A\\cap A) = P(A)P(A)$ is only true when $P(A)$ is 0 or 1."
   ]
  },
  {
   "cell_type": "code",
   "execution_count": null,
   "metadata": {},
   "outputs": [],
   "source": []
  }
 ],
 "metadata": {
  "kernelspec": {
   "display_name": "Python 3",
   "language": "python",
   "name": "python3"
  },
  "language_info": {
   "codemirror_mode": {
    "name": "ipython",
    "version": 3
   },
   "file_extension": ".py",
   "mimetype": "text/x-python",
   "name": "python",
   "nbconvert_exporter": "python",
   "pygments_lexer": "ipython3",
   "version": "3.7.3"
  }
 },
 "nbformat": 4,
 "nbformat_minor": 2
}
