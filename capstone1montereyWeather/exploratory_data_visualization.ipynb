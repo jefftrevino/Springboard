{
 "cells": [
  {
   "cell_type": "markdown",
   "metadata": {},
   "source": [
    "# Monterey Weather: Exploratory Data Visualization"
   ]
  },
  {
   "cell_type": "code",
   "execution_count": 142,
   "metadata": {},
   "outputs": [],
   "source": [
    "from datetime import datetime\n",
    "\n",
    "import numpy as np\n",
    "import pandas as pd\n",
    "import matplotlib.pyplot as plt\n",
    "import seaborn as sns"
   ]
  },
  {
   "cell_type": "code",
   "execution_count": 143,
   "metadata": {},
   "outputs": [
    {
     "data": {
      "text/html": [
       "<div>\n",
       "<style scoped>\n",
       "    .dataframe tbody tr th:only-of-type {\n",
       "        vertical-align: middle;\n",
       "    }\n",
       "\n",
       "    .dataframe tbody tr th {\n",
       "        vertical-align: top;\n",
       "    }\n",
       "\n",
       "    .dataframe thead th {\n",
       "        text-align: right;\n",
       "    }\n",
       "</style>\n",
       "<table border=\"1\" class=\"dataframe\">\n",
       "  <thead>\n",
       "    <tr style=\"text-align: right;\">\n",
       "      <th></th>\n",
       "      <th>DATE</th>\n",
       "      <th>HourlyPresentWeatherType</th>\n",
       "      <th>HourlySkyConditions</th>\n",
       "      <th>HourlyVisibility</th>\n",
       "      <th>HourlyDryBulbTemperature</th>\n",
       "      <th>HourlyWindSpeed</th>\n",
       "      <th>DailyMaximumDryBulbTemperature</th>\n",
       "      <th>DailyMinimumDryBulbTemperature</th>\n",
       "      <th>DailyPeakWindSpeed</th>\n",
       "      <th>DailyPrecipitation</th>\n",
       "      <th>averageObscuration</th>\n",
       "    </tr>\n",
       "    <tr>\n",
       "      <th>datetime</th>\n",
       "      <th></th>\n",
       "      <th></th>\n",
       "      <th></th>\n",
       "      <th></th>\n",
       "      <th></th>\n",
       "      <th></th>\n",
       "      <th></th>\n",
       "      <th></th>\n",
       "      <th></th>\n",
       "      <th></th>\n",
       "      <th></th>\n",
       "    </tr>\n",
       "  </thead>\n",
       "  <tbody>\n",
       "    <tr>\n",
       "      <th>2009-04-01 00:08:00</th>\n",
       "      <td>2009-04-01T00:08:00</td>\n",
       "      <td>NaN</td>\n",
       "      <td>[{'BKN': SkyCondition(obscuration=7, vertical_...</td>\n",
       "      <td>10.0</td>\n",
       "      <td>52.0</td>\n",
       "      <td>8.0</td>\n",
       "      <td>59.0</td>\n",
       "      <td>49.0</td>\n",
       "      <td>26.0</td>\n",
       "      <td>0.0</td>\n",
       "      <td>7.0</td>\n",
       "    </tr>\n",
       "    <tr>\n",
       "      <th>2009-04-01 00:50:00</th>\n",
       "      <td>2009-04-01T00:50:00</td>\n",
       "      <td>NaN</td>\n",
       "      <td>[{'SCT': SkyCondition(obscuration=4, vertical_...</td>\n",
       "      <td>9.0</td>\n",
       "      <td>52.0</td>\n",
       "      <td>10.0</td>\n",
       "      <td>59.0</td>\n",
       "      <td>49.0</td>\n",
       "      <td>26.0</td>\n",
       "      <td>0.0</td>\n",
       "      <td>4.0</td>\n",
       "    </tr>\n",
       "    <tr>\n",
       "      <th>2009-04-01 00:54:00</th>\n",
       "      <td>2009-04-01T00:54:00</td>\n",
       "      <td>NaN</td>\n",
       "      <td>[{'SCT': SkyCondition(obscuration=4, vertical_...</td>\n",
       "      <td>9.0</td>\n",
       "      <td>50.0</td>\n",
       "      <td>9.0</td>\n",
       "      <td>59.0</td>\n",
       "      <td>49.0</td>\n",
       "      <td>26.0</td>\n",
       "      <td>0.0</td>\n",
       "      <td>4.0</td>\n",
       "    </tr>\n",
       "    <tr>\n",
       "      <th>2009-04-01 01:54:00</th>\n",
       "      <td>2009-04-01T01:54:00</td>\n",
       "      <td>NaN</td>\n",
       "      <td>[]</td>\n",
       "      <td>9.0</td>\n",
       "      <td>51.0</td>\n",
       "      <td>10.0</td>\n",
       "      <td>59.0</td>\n",
       "      <td>49.0</td>\n",
       "      <td>26.0</td>\n",
       "      <td>0.0</td>\n",
       "      <td>NaN</td>\n",
       "    </tr>\n",
       "    <tr>\n",
       "      <th>2009-04-01 02:54:00</th>\n",
       "      <td>2009-04-01T02:54:00</td>\n",
       "      <td>NaN</td>\n",
       "      <td>[]</td>\n",
       "      <td>9.0</td>\n",
       "      <td>50.0</td>\n",
       "      <td>16.0</td>\n",
       "      <td>59.0</td>\n",
       "      <td>49.0</td>\n",
       "      <td>26.0</td>\n",
       "      <td>0.0</td>\n",
       "      <td>NaN</td>\n",
       "    </tr>\n",
       "  </tbody>\n",
       "</table>\n",
       "</div>"
      ],
      "text/plain": [
       "                                    DATE HourlyPresentWeatherType  \\\n",
       "datetime                                                            \n",
       "2009-04-01 00:08:00  2009-04-01T00:08:00                      NaN   \n",
       "2009-04-01 00:50:00  2009-04-01T00:50:00                      NaN   \n",
       "2009-04-01 00:54:00  2009-04-01T00:54:00                      NaN   \n",
       "2009-04-01 01:54:00  2009-04-01T01:54:00                      NaN   \n",
       "2009-04-01 02:54:00  2009-04-01T02:54:00                      NaN   \n",
       "\n",
       "                                                   HourlySkyConditions  \\\n",
       "datetime                                                                 \n",
       "2009-04-01 00:08:00  [{'BKN': SkyCondition(obscuration=7, vertical_...   \n",
       "2009-04-01 00:50:00  [{'SCT': SkyCondition(obscuration=4, vertical_...   \n",
       "2009-04-01 00:54:00  [{'SCT': SkyCondition(obscuration=4, vertical_...   \n",
       "2009-04-01 01:54:00                                                 []   \n",
       "2009-04-01 02:54:00                                                 []   \n",
       "\n",
       "                     HourlyVisibility  HourlyDryBulbTemperature  \\\n",
       "datetime                                                          \n",
       "2009-04-01 00:08:00              10.0                      52.0   \n",
       "2009-04-01 00:50:00               9.0                      52.0   \n",
       "2009-04-01 00:54:00               9.0                      50.0   \n",
       "2009-04-01 01:54:00               9.0                      51.0   \n",
       "2009-04-01 02:54:00               9.0                      50.0   \n",
       "\n",
       "                     HourlyWindSpeed  DailyMaximumDryBulbTemperature  \\\n",
       "datetime                                                               \n",
       "2009-04-01 00:08:00              8.0                            59.0   \n",
       "2009-04-01 00:50:00             10.0                            59.0   \n",
       "2009-04-01 00:54:00              9.0                            59.0   \n",
       "2009-04-01 01:54:00             10.0                            59.0   \n",
       "2009-04-01 02:54:00             16.0                            59.0   \n",
       "\n",
       "                     DailyMinimumDryBulbTemperature  DailyPeakWindSpeed  \\\n",
       "datetime                                                                  \n",
       "2009-04-01 00:08:00                            49.0                26.0   \n",
       "2009-04-01 00:50:00                            49.0                26.0   \n",
       "2009-04-01 00:54:00                            49.0                26.0   \n",
       "2009-04-01 01:54:00                            49.0                26.0   \n",
       "2009-04-01 02:54:00                            49.0                26.0   \n",
       "\n",
       "                     DailyPrecipitation  averageObscuration  \n",
       "datetime                                                     \n",
       "2009-04-01 00:08:00                 0.0                 7.0  \n",
       "2009-04-01 00:50:00                 0.0                 4.0  \n",
       "2009-04-01 00:54:00                 0.0                 4.0  \n",
       "2009-04-01 01:54:00                 0.0                 NaN  \n",
       "2009-04-01 02:54:00                 0.0                 NaN  "
      ]
     },
     "execution_count": 143,
     "metadata": {},
     "output_type": "execute_result"
    }
   ],
   "source": [
    "df = pd.read_csv('cleaned_df.csv', parse_dates=['datetime'], index_col=['datetime'])\n",
    "df.head()"
   ]
  },
  {
   "cell_type": "markdown",
   "metadata": {},
   "source": [
    "Event planners are often most concerned with the presence or absence of sun, which appears  in the dataset as the average sky obscuration value. Averaged across the whole dataset, which hours of the day tend to be more or less obscured?"
   ]
  },
  {
   "cell_type": "code",
   "execution_count": 144,
   "metadata": {},
   "outputs": [
    {
     "data": {
      "image/png": "[encoded data removed]",
      "text/plain": [
       "<Figure size 1152x432 with 1 Axes>"
      ]
     },
     "metadata": {
      "needs_background": "light"
     },
     "output_type": "display_data"
    }
   ],
   "source": [
    "hourly_obscuration = pd.DataFrame(df.groupby(df.index.hour).averageObscuration.mean())\n",
    "hourly_obscuration = hourly_obscuration.reset_index()\n",
    "hourly_obscuration.columns = ['hour of the day', 'mean obscuration']\n",
    "plt.figure(figsize=(16, 6))\n",
    "sns.barplot(y='hour of the day', x='mean obscuration', color='grey', orient='h', data=hourly_obscuration).set_title('The Sun Is More Likely To Be Out Between 10 AM and 4 PM in Monterey')\n",
    "plt.show()"
   ]
  },
  {
   "cell_type": "markdown",
   "metadata": {},
   "source": [
    "It looks like the hours between 10 AM and 4 PM are the least obscured."
   ]
  },
  {
   "cell_type": "markdown",
   "metadata": {},
   "source": [
    "How varied is each hour's obscuration throughout the year?"
   ]
  },
  {
   "cell_type": "code",
   "execution_count": 181,
   "metadata": {},
   "outputs": [
    {
     "data": {
      "text/plain": [
       "pandas.core.frame.DataFrame"
      ]
     },
     "execution_count": 181,
     "metadata": {},
     "output_type": "execute_result"
    }
   ],
   "source": [
    "hours = df\n",
    "hours = pd.DataFrame(df.groupby([df.index.hour, df.index.day, df.index.month]).averageObscuration.mean())\n",
    "hours.index = hours.index.set_names(['hour', 'day', 'month'])\n",
    "hours.head(30)\n",
    "midnight = hours.loc[0]\n",
    "# sns.scatterplot(data=midnight)"
   ]
  },
  {
   "cell_type": "markdown",
   "metadata": {},
   "source": [
    "As another quick sanity check: the day of the week shouldn't matter —"
   ]
  },
  {
   "cell_type": "code",
   "execution_count": 44,
   "metadata": {},
   "outputs": [
    {
     "data": {
      "image/png": "[encoded data removed]",
      "text/plain": [
       "<Figure size 432x288 with 1 Axes>"
      ]
     },
     "metadata": {
      "needs_background": "light"
     },
     "output_type": "display_data"
    }
   ],
   "source": [
    "daily_obscuration = df.groupby(df.index.dayofweek).averageObscuration.mean()\n",
    "daily_obscuration = daily_obscuration.reset_index()\n",
    "daily_obscuration.columns = ['day of the week', 'average obscuration']\n",
    "sns.barplot(x='day of the week', y='average obscuration', color='grey', data=daily_obscuration).set_title('Sky Obscuration by Day of the Week in Monterey')\n",
    "plt.show()"
   ]
  },
  {
   "cell_type": "markdown",
   "metadata": {},
   "source": [
    "As expected, we see little variation according to this variable."
   ]
  },
  {
   "cell_type": "markdown",
   "metadata": {},
   "source": [
    "Which months of the year are the most or least obscured?"
   ]
  },
  {
   "cell_type": "code",
   "execution_count": 46,
   "metadata": {},
   "outputs": [
    {
     "data": {
      "image/png": "[encoded data removed]",
      "text/plain": [
       "<Figure size 432x288 with 1 Axes>"
      ]
     },
     "metadata": {
      "needs_background": "light"
     },
     "output_type": "display_data"
    }
   ],
   "source": [
    "day_of_month = pd.DataFrame(df.groupby(df.index.month).averageObscuration.mean())\n",
    "day_of_month = day_of_month.reset_index()\n",
    "day_of_month.head()\n",
    "day_of_month.columns = ['month', 'average obscuration']\n",
    "sns.barplot(x='month', y='average obscuration', color='grey', data=day_of_month).set_title('Mean Sky Obscuration by Month in Monterey')\n",
    "plt.show()"
   ]
  },
  {
   "cell_type": "markdown",
   "metadata": {},
   "source": [
    "The data reveal the area's idiosyncratic weather patterns: the sky tends to be more obscured in the \"summer\" months and less obscured in the \"fall\" months. We can see this if we average obscuration by yearly quarter (as the idea of \"seasons\" doesn't quite map to this weather):"
   ]
  },
  {
   "cell_type": "code",
   "execution_count": 138,
   "metadata": {},
   "outputs": [
    {
     "data": {
      "image/png": "[encoded data removed]",
      "text/plain": [
       "<Figure size 432x288 with 1 Axes>"
      ]
     },
     "metadata": {
      "needs_background": "light"
     },
     "output_type": "display_data"
    }
   ],
   "source": [
    "def quarter_from_month(datetime):\n",
    "    month = datetime.month\n",
    "    lookup = {1: 1, 2: 1, 3: 1, 4: 2, 5: 2, 6: 2, 7: 3, 8: 3, 9: 3, 10: 4, 11: 4, 12:4}\n",
    "    return lookup[month]\n",
    "\n",
    "by_quarter = df.reset_index()\n",
    "by_quarter['quarter'] = by_quarter['datetime'].apply(quarter_from_month)\n",
    "by_quarter = pd.DataFrame(by_quarter.groupby('quarter').averageObscuration.mean()).reset_index()\n",
    "by_quarter.columns = ['quarter', 'mean obscuration']\n",
    "sns.barplot(x='quarter', y='mean obscuration', color='grey', data=by_quarter).set_title('Mean Sky Obscuration by Quarter in Monterey')\n",
    "plt.show()"
   ]
  },
  {
   "cell_type": "markdown",
   "metadata": {},
   "source": [
    "How many calendar days on average have been clear or nearly clear over the last decade?"
   ]
  },
  {
   "cell_type": "code",
   "execution_count": 107,
   "metadata": {},
   "outputs": [
    {
     "name": "stdout",
     "output_type": "stream",
     "text": [
      "36 days have had an average obscuration rating of under 3.5 over the last decade.\n"
     ]
    }
   ],
   "source": [
    "by_date = df.groupby([df.index.month, df.index.day]).averageObscuration.mean()\n",
    "by_date = by_date.sort_values()\n",
    "by_date = by_date[by_date <=3.5] # 3.5 is a conservative cut-off for a clear day: there are \"few clouds\" on average\n",
    "print(str(len(by_date)) + \" days have had an average obscuration rating of under 3.5 over the last decade.\")\n",
    "# by_date = by_date >=1\n",
    "# by_date = by_date.sort_values()\n",
    "# len(by_date)"
   ]
  },
  {
   "cell_type": "code",
   "execution_count": null,
   "metadata": {},
   "outputs": [],
   "source": [
    "plt.subplot()"
   ]
  }
 ],
 "metadata": {
  "kernelspec": {
   "display_name": "Python 3",
   "language": "python",
   "name": "python3"
  },
  "language_info": {
   "codemirror_mode": {
    "name": "ipython",
    "version": 3
   },
   "file_extension": ".py",
   "mimetype": "text/x-python",
   "name": "python",
   "nbconvert_exporter": "python",
   "pygments_lexer": "ipython3",
   "version": "3.7.3"
  }
 },
 "nbformat": 4,
 "nbformat_minor": 2
}
