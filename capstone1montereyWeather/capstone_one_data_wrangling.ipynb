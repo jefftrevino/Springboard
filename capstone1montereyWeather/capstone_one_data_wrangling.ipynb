{
 "cells": [
  {
   "cell_type": "markdown",
   "metadata": {},
   "source": [
    "# Capstone One Data Wrangling"
   ]
  },
  {
   "cell_type": "code",
   "execution_count": 15,
   "metadata": {},
   "outputs": [],
   "source": [
    "from datetime import datetime\n",
    "\n",
    "import numpy as np\n",
    "import pandas as pd\n",
    "import matplotlib.pyplot as plt"
   ]
  },
  {
   "cell_type": "code",
   "execution_count": 2,
   "metadata": {},
   "outputs": [],
   "source": [
    "# pandas options\n",
    "pd.set_option('display.max_columns', 125) # csv contains 124 columns\n",
    "pd.set_option('display.max_rows', 4000) # display more rows\n",
    "pd.options.mode.chained_assignment = None  # turn off false positive warnings for editing a copy"
   ]
  },
  {
   "cell_type": "code",
   "execution_count": 3,
   "metadata": {},
   "outputs": [
    {
     "name": "stderr",
     "output_type": "stream",
     "text": [
      "/Users/trev7591a/.local/share/virtualenvs/Springboard-_vI4Xo1j/lib/python3.7/site-packages/IPython/core/interactiveshell.py:3049: DtypeWarning: Columns (3,19,25,26,27,28,29,30,35,36,41,42,43,48,49,51,53,55,58,59,63,77,82,95,114,117,119) have mixed types. Specify dtype option on import or set low_memory=False.\n",
      "  interactivity=interactivity, compiler=compiler, result=result)\n"
     ]
    }
   ],
   "source": [
    "data = pd.read_csv('montereyClimateData.csv') # had one float at end of this col"
   ]
  },
  {
   "cell_type": "markdown",
   "metadata": {},
   "source": [
    "Get relevant columns from the data set:"
   ]
  },
  {
   "cell_type": "code",
   "execution_count": 4,
   "metadata": {
    "scrolled": false
   },
   "outputs": [],
   "source": [
    "df = data\n",
    "columns = ['DATE', 'HourlyPresentWeatherType', 'HourlySkyConditions', 'HourlyVisibility', 'HourlyDryBulbTemperature', 'HourlyWindSpeed', 'DailyMaximumDryBulbTemperature', 'DailyMinimumDryBulbTemperature', 'DailyPeakWindSpeed', 'DailyPrecipitation']\n",
    "df = df.loc[:, columns]"
   ]
  },
  {
   "cell_type": "markdown",
   "metadata": {},
   "source": [
    "### 1. Convert the 'DATE' column into a new datetime column full of datetime objects, and set this new column as the dataframe's index."
   ]
  },
  {
   "cell_type": "code",
   "execution_count": 5,
   "metadata": {
    "scrolled": true
   },
   "outputs": [],
   "source": [
    "def date_val_to_datetime(to_parse):\n",
    "    to_format = to_parse.split('T')\n",
    "    return datetime.strptime(to_format[0] + ' ' + to_format[1], '%Y-%m-%d %H:%M:%S')\n",
    "\n",
    "df['datetime'] = df.loc[:,'DATE'].apply(date_val_to_datetime)"
   ]
  },
  {
   "cell_type": "markdown",
   "metadata": {},
   "source": [
    "### 2. Set this new column to be a datetime index for the dataframe."
   ]
  },
  {
   "cell_type": "code",
   "execution_count": 6,
   "metadata": {},
   "outputs": [],
   "source": [
    "df = df.set_index(['datetime'])"
   ]
  },
  {
   "cell_type": "markdown",
   "metadata": {},
   "source": [
    "### 3. Convert strings to float across dataset where possible, replacing asterisks and suspect values with NaNs."
   ]
  },
  {
   "cell_type": "code",
   "execution_count": 7,
   "metadata": {},
   "outputs": [
    {
     "data": {
      "text/plain": [
       "DATE                               object\n",
       "HourlyPresentWeatherType           object\n",
       "HourlySkyConditions                object\n",
       "HourlyVisibility                   object\n",
       "HourlyDryBulbTemperature           object\n",
       "HourlyWindSpeed                   float64\n",
       "DailyMaximumDryBulbTemperature     object\n",
       "DailyMinimumDryBulbTemperature     object\n",
       "DailyPeakWindSpeed                 object\n",
       "DailyPrecipitation                 object\n",
       "dtype: object"
      ]
     },
     "execution_count": 7,
     "metadata": {},
     "output_type": "execute_result"
    }
   ],
   "source": [
    "df.dtypes # all but hourly windspeed must be cleaned and converted to float for numeric processing"
   ]
  },
  {
   "cell_type": "code",
   "execution_count": 8,
   "metadata": {},
   "outputs": [],
   "source": [
    "cols = ['HourlyVisibility', # columns to convert\n",
    " 'HourlyDryBulbTemperature',\n",
    " 'HourlyWindSpeed',\n",
    " 'DailyMaximumDryBulbTemperature',\n",
    " 'DailyMinimumDryBulbTemperature',\n",
    " 'DailyPeakWindSpeed',\n",
    " 'DailyPrecipitation',\n",
    "       ]\n",
    "\n",
    "# convert columns by applying to_numeric with error coersion\n",
    "df.loc[:, cols] = df.loc[:, cols].apply(pd.to_numeric, errors='coerce')"
   ]
  },
  {
   "cell_type": "code",
   "execution_count": 9,
   "metadata": {},
   "outputs": [],
   "source": [
    "# check for desired result\n",
    "for c in cols:\n",
    "    assert df.loc[:, c].dtypes == np.float64\n",
    "    assert len(df.loc[df[c].astype(str).str[-1].isin(('*', 's'))]) == 0"
   ]
  },
  {
   "cell_type": "code",
   "execution_count": 10,
   "metadata": {},
   "outputs": [
    {
     "data": {
      "text/plain": [
       "DATE                               object\n",
       "HourlyPresentWeatherType           object\n",
       "HourlySkyConditions                object\n",
       "HourlyVisibility                  float64\n",
       "HourlyDryBulbTemperature          float64\n",
       "HourlyWindSpeed                   float64\n",
       "DailyMaximumDryBulbTemperature    float64\n",
       "DailyMinimumDryBulbTemperature    float64\n",
       "DailyPeakWindSpeed                float64\n",
       "DailyPrecipitation                float64\n",
       "dtype: object"
      ]
     },
     "execution_count": 10,
     "metadata": {},
     "output_type": "execute_result"
    }
   ],
   "source": [
    "df.dtypes # and now all numeric fields are now floats"
   ]
  },
  {
   "cell_type": "markdown",
   "metadata": {},
   "source": [
    "### 4. Backfill the daily values to eliminate missing values: maximum daily temperature, minimum daily temperature, maximum daily wind speed, and daily precipitation columns throughout each day should have identical values.\n"
   ]
  },
  {
   "cell_type": "code",
   "execution_count": 11,
   "metadata": {},
   "outputs": [],
   "source": [
    "df.loc[:,['DailyMaximumDryBulbTemperature', 'DailyMinimumDryBulbTemperature', 'DailyPeakWindSpeed', 'DailyPrecipitation']] = df.loc[:,['DailyMaximumDryBulbTemperature', 'DailyMinimumDryBulbTemperature', 'DailyPeakWindSpeed', 'DailyPrecipitation']].bfill()"
   ]
  },
  {
   "cell_type": "markdown",
   "metadata": {},
   "source": [
    "### 5. Replace sky condition string list with a list of dictionaries. The sky condition is the key and a SkyCondition namedtuple is the value."
   ]
  },
  {
   "cell_type": "code",
   "execution_count": 12,
   "metadata": {},
   "outputs": [],
   "source": [
    "# column value is a string of a list of codes, 'BKN:07 15 OVC:08 20'\n",
    "# desired output is a list of tuples, [('BKN', 7, 15), ('OVC', 8, 20)]\n",
    "# clear days lack a second integer, i.e., 'CLR:00', appending 0 in place of missing value\n",
    "from collections import namedtuple\n",
    "\n",
    "SkyCondition = namedtuple('SkyCondition', 'obscuration, vertical_distance') # these will be the dict's values\n",
    "\n",
    "def list_of_lists_by_n(the_list, n):\n",
    "    \"\"\"Yields the next n elements of a list as a sublist\"\"\"\n",
    "    for i in range(0, len(the_list), n):  \n",
    "        yield the_list[i:i + n] \n",
    "        \n",
    "def from_many_to_two(the_string):\n",
    "    split_at_spaces = the_string.split(' ')\n",
    "    return list(list_of_lists_by_n(split_at_spaces, 2))\n",
    "\n",
    "def from_two_to_three(list_of_lists):\n",
    "    \"\"\"\n",
    "    input: ['CAPS:02', '35']\n",
    "    output: {'CAPS':, SkyCondition(obscuration=02, vertical_distance=35)}\n",
    "    \"\"\"\n",
    "    output = []\n",
    "    for two_element_list in list_of_lists:\n",
    "        first_element = two_element_list[0]\n",
    "        if 2 >= len(first_element):\n",
    "            return {} # for single trailing ints\n",
    "        first_element_split = first_element.split(\":\")\n",
    "        if 2 > len(two_element_list): \n",
    "            two_element_list.append(0) # catch CLR days missing following 00\n",
    "        condition = SkyCondition(int(first_element_split[1]), int(two_element_list[1]))\n",
    "        output.append({first_element_split[0]: condition})\n",
    "    return output\n",
    "\n",
    "def condition_string_to_namedtuple_dict(value):\n",
    "    \"\"\"\n",
    "    Converts string containing several of the following to a list of dictionaries as follows:\n",
    "    input: \"CAPS:03 34\"\n",
    "    output: {'CAPS':, SkyCondition(obscuration=3, vertical_distance=34)}\n",
    "    \"\"\"\n",
    "    if isinstance(value, float): # the only floats are np.nan, which is a float...with a str repr\n",
    "        return [] # replace NaNs as an empty list\n",
    "    the_string = value\n",
    "    list_of_twos = from_many_to_two(the_string)\n",
    "    return from_two_to_three(list_of_twos)\n",
    "\n",
    "df['HourlySkyConditions'] = df['HourlySkyConditions'].apply(condition_string_to_namedtuple_dict)"
   ]
  },
  {
   "cell_type": "markdown",
   "metadata": {},
   "source": [
    "Next we add an average obscuration score for each hour in the datset:"
   ]
  },
  {
   "cell_type": "code",
   "execution_count": 22,
   "metadata": {},
   "outputs": [],
   "source": [
    "def calculate_average_obscuration(sky_conditions_for_hour):\n",
    "    \"\"\"Calculates the mean obscuration for each hour in the dataset\"\"\"\n",
    "    if not sky_conditions_for_hour:\n",
    "        return np.nan\n",
    "    else:\n",
    "        obscurations = [[y.obscuration for x, y in d.items()] for d in sky_conditions_for_hour]\n",
    "        obscuration_mean = sum([x[0] for x in obscurations]) / len(obscurations) # calculate mean obscuration\n",
    "        return obscuration_mean\n",
    "    \n",
    "\n",
    "df['averageObscuration'] = df['HourlySkyConditions'].apply(calculate_average_obscuration)"
   ]
  }
 ],
 "metadata": {
  "kernelspec": {
   "display_name": "Python 3",
   "language": "python",
   "name": "python3"
  },
  "language_info": {
   "codemirror_mode": {
    "name": "ipython",
    "version": 3
   },
   "file_extension": ".py",
   "mimetype": "text/x-python",
   "name": "python",
   "nbconvert_exporter": "python",
   "pygments_lexer": "ipython3",
   "version": "3.7.3"
  }
 },
 "nbformat": 4,
 "nbformat_minor": 2
}
