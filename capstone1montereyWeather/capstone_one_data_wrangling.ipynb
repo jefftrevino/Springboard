{
 "cells": [
  {
   "cell_type": "markdown",
   "metadata": {},
   "source": [
    "# Capstone One Data Wrangling"
   ]
  },
  {
   "cell_type": "code",
   "execution_count": 239,
   "metadata": {},
   "outputs": [],
   "source": [
    "from datetime import datetime\n",
    "\n",
    "import numpy as np\n",
    "import pandas as pd\n",
    "import matplotlib.pyplot as plt"
   ]
  },
  {
   "cell_type": "code",
   "execution_count": 240,
   "metadata": {},
   "outputs": [],
   "source": [
    "# pandas options\n",
    "pd.set_option('display.max_columns', 125) # csv contains 124 columns\n",
    "pd.set_option('display.max_rows', 1000) # display more rows\n",
    "pd.options.mode.chained_assignment = None  # turn off false positive warnings for editing a copy"
   ]
  },
  {
   "cell_type": "code",
   "execution_count": 241,
   "metadata": {},
   "outputs": [],
   "source": [
    "data = pd.read_csv('montereyClimateData.csv') # had one float at end of this col"
   ]
  },
  {
   "cell_type": "markdown",
   "metadata": {},
   "source": [
    "Get relevant columns from the data set:"
   ]
  },
  {
   "cell_type": "code",
   "execution_count": 242,
   "metadata": {
    "scrolled": false
   },
   "outputs": [],
   "source": [
    "df = data\n",
    "columns = ['DATE', 'HourlyPresentWeatherType', 'HourlySkyConditions', 'HourlyVisibility', 'HourlyDryBulbTemperature', 'HourlyWindSpeed', 'DailyMaximumDryBulbTemperature', 'DailyMinimumDryBulbTemperature', 'DailyPeakWindSpeed', 'DailyPrecipitation']\n",
    "df = df[columns]"
   ]
  },
  {
   "cell_type": "markdown",
   "metadata": {},
   "source": [
    "### 1. Convert the 'DATE' column into a new datetime column full of datetime objects, and set this new column as the dataframe's index."
   ]
  },
  {
   "cell_type": "code",
   "execution_count": 243,
   "metadata": {
    "scrolled": true
   },
   "outputs": [],
   "source": [
    "def date_val_to_datetime(to_parse):\n",
    "    to_format = to_parse.split('T')\n",
    "    return datetime.strptime(to_format[0] + ' ' + to_format[1], '%Y-%m-%d %H:%M:%S')\n",
    "\n",
    "df['datetime'] = df['DATE'].apply(date_val_to_datetime)"
   ]
  },
  {
   "cell_type": "markdown",
   "metadata": {},
   "source": [
    "### 2. Set this new column to be a datetime index for the dataframe."
   ]
  },
  {
   "cell_type": "code",
   "execution_count": 244,
   "metadata": {},
   "outputs": [],
   "source": [
    "df = df.set_index(['datetime'])"
   ]
  },
  {
   "cell_type": "markdown",
   "metadata": {},
   "source": [
    "### 3. Backfill the maximum daily temperature, minimum daily temperature, daily precipitation, and maximum daily wind speed columns throughout the day. \n"
   ]
  },
  {
   "cell_type": "code",
   "execution_count": 245,
   "metadata": {},
   "outputs": [],
   "source": [
    "df[['DailyMaximumDryBulbTemperature', 'DailyMinimumDryBulbTemperature', 'DailyPeakWindSpeed', 'DailyPrecipitation']] = df[['DailyMaximumDryBulbTemperature', 'DailyMinimumDryBulbTemperature', 'DailyPeakWindSpeed', 'DailyPrecipitation']].bfill()"
   ]
  },
  {
   "cell_type": "markdown",
   "metadata": {},
   "source": [
    "### 4. Converted daily measurements from string values to float values."
   ]
  },
  {
   "cell_type": "code",
   "execution_count": 246,
   "metadata": {},
   "outputs": [],
   "source": [
    "# sometimes these string values come with an 's' suffix -> taking all but the last char to convert\n",
    "df['DailyMaximumDryBulbTemperature'] = df['DailyMaximumDryBulbTemperature'].str.replace('s','').astype(float)\n",
    "df['DailyMinimumDryBulbTemperature'] = df['DailyMinimumDryBulbTemperature'].str.replace('s','').astype(float)\n",
    "# df['DailyMinimumDryBulbTemperature'] = df['DailyMinimumDryBulbTemperature'].str[:-1].astype(float)"
   ]
  },
  {
   "cell_type": "markdown",
   "metadata": {},
   "source": [
    "### 5. Replace daily precipitation column’s “T and “Ts” values, which indicate “traces of precipitation,” with zeros.\n"
   ]
  },
  {
   "cell_type": "code",
   "execution_count": 247,
   "metadata": {},
   "outputs": [],
   "source": [
    "def precip_str_to_float(value):\n",
    "    \"\"\"Checks for string or float and returns appropriate float value\"\"\"\n",
    "    if isinstance(value, str):\n",
    "        # second conditional catches two cases: some values are 'Ts' and others are '0.00s' strings\n",
    "        if value is 'T' or value[-1] is 's': \n",
    "            return 0.0\n",
    "        else:\n",
    "            return float(value)\n",
    "    else:\n",
    "        return value\n",
    "\n",
    "df['DailyPrecipitation'] = df['DailyPrecipitation'].apply(precip_str_to_float)"
   ]
  },
  {
   "cell_type": "markdown",
   "metadata": {},
   "source": [
    "### 6. Replace sky condition string list with a list of dictionaries. The sky condition is the key and a SkyCondition namedtuple is the value."
   ]
  },
  {
   "cell_type": "code",
   "execution_count": 248,
   "metadata": {},
   "outputs": [],
   "source": [
    "# column value is a string of a list of codes, 'BKN:07 15 OVC:08 20'\n",
    "# desired output is a list of tuples, [('BKN', 7, 15), ('OVC', 8, 20)]\n",
    "# clear days lack a second integer, i.e., 'CLR:00', appending 0 in place of missing value\n",
    "from collections import namedtuple\n",
    "\n",
    "SkyCondition = namedtuple('SkyCondition', 'obscuration, vertical_distance') # these will be the dict's values\n",
    "\n",
    "def list_of_lists_by_n(the_list, n):\n",
    "    \"\"\"Yields the next n elements of a list as a sublist\"\"\"\n",
    "    for i in range(0, len(the_list), n):  \n",
    "        yield the_list[i:i + n] \n",
    "        \n",
    "def from_many_to_two(the_string):\n",
    "    split_at_spaces = the_string.split(' ')\n",
    "    return list(list_of_lists_by_n(split_at_spaces, 2))\n",
    "\n",
    "def from_two_to_three(list_of_lists):\n",
    "    \"\"\"\n",
    "    input: ['CAPS:02', '35']\n",
    "    output: {'CAPS':, SkyCondition(obscuration=02, vertical_distance=35)}\n",
    "    \"\"\"\n",
    "    output = []\n",
    "    for two_element_list in list_of_lists:\n",
    "        first_element = two_element_list[0]\n",
    "        if 2 >= len(first_element):\n",
    "            return {} # for single trailing ints\n",
    "        first_element_split = first_element.split(\":\")\n",
    "        if 2 > len(two_element_list): \n",
    "            two_element_list.append(0) # catch CLR days missing following 00\n",
    "        condition = SkyCondition(int(first_element_split[1]), int(two_element_list[1]))\n",
    "        output.append({first_element_split[0]: condition})\n",
    "    return output\n",
    "\n",
    "def condition_string_to_namedtuple_dict(value):\n",
    "    \"\"\"\n",
    "    Converts string containing several of the following to a list of dictionaries as follows:\n",
    "    input: \"CAPS:03 34\"\n",
    "    output: {'CAPS':, SkyCondition(obscuration=3, vertical_distance=34)}\n",
    "    \"\"\"\n",
    "    if isinstance(value, float): # the only floats are np.nan, which is a float...with a str repr\n",
    "        return [] # replace NaNs as an empty list\n",
    "    the_string = value\n",
    "    list_of_twos = from_many_to_two(the_string)\n",
    "    return from_two_to_three(list_of_twos)\n",
    "\n",
    "df['HourlySkyConditions'] = df['HourlySkyConditions'].apply(condition_string_to_namedtuple_dict)"
   ]
  },
  {
   "cell_type": "code",
   "execution_count": 249,
   "metadata": {},
   "outputs": [
    {
     "name": "stdout",
     "output_type": "stream",
     "text": [
      "[{'FEW': SkyCondition(obscuration=2, vertical_distance=19)}, {'BKN': SkyCondition(obscuration=7, vertical_distance=47)}, {'OVC': SkyCondition(obscuration=8, vertical_distance=55)}]\n"
     ]
    },
    {
     "data": {
      "text/plain": [
       "[False, True, False]"
      ]
     },
     "execution_count": 249,
     "metadata": {},
     "output_type": "execute_result"
    }
   ],
   "source": [
    "# example list comprehension for polling for sky condition in particular hour\n",
    "print(df['HourlySkyConditions'][212])\n",
    "['BKN' in x for x in df['HourlySkyConditions'][212]]"
   ]
  },
  {
   "cell_type": "code",
   "execution_count": 250,
   "metadata": {},
   "outputs": [
    {
     "name": "stdout",
     "output_type": "stream",
     "text": [
      "5.666666666666667\n"
     ]
    }
   ],
   "source": [
    "# example lookup and average to calculate obscuration score for an hour\n",
    "os = [[y.obscuration for x, y in d.items()] for d in df['HourlySkyConditions'][212]]\n",
    "o_score = sum([x[0] for x in os]) / len(os) # average obscuration score for the hour\n",
    "print(o_score)\n",
    "# But perhaps it's more significant that, in this particular hour, the sky went from sunny to overcast...."
   ]
  }
 ],
 "metadata": {
  "kernelspec": {
   "display_name": "Python 3",
   "language": "python",
   "name": "python3"
  },
  "language_info": {
   "codemirror_mode": {
    "name": "ipython",
    "version": 3
   },
   "file_extension": ".py",
   "mimetype": "text/x-python",
   "name": "python",
   "nbconvert_exporter": "python",
   "pygments_lexer": "ipython3",
   "version": "3.7.3"
  }
 },
 "nbformat": 4,
 "nbformat_minor": 2
}
