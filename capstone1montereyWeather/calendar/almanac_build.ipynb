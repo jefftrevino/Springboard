{
 "cells": [
  {
   "cell_type": "markdown",
   "metadata": {},
   "source": [
    "# Monterey Bay Event Planner Almanac Build"
   ]
  },
  {
   "cell_type": "markdown",
   "metadata": {},
   "source": [
    "This notebook posts predictions to a Google Calendar based on two existing dataframes in the same directory as this notebook:\n",
    "* an existing index of obscuration risk ratios per calendar day\n",
    "* daily 2019 predictions of temperature, humidity, and sky obscuration (generated via my facebook prophet model of the last decade of NOAA Monterey Airport weather data)"
   ]
  },
  {
   "cell_type": "code",
   "execution_count": 138,
   "metadata": {},
   "outputs": [],
   "source": [
    "# imports\n",
    "from __future__ import print_function\n",
    "import datetime\n",
    "import pickle\n",
    "import os.path\n",
    "\n",
    "from googleapiclient.discovery import build\n",
    "from google_auth_oauthlib.flow import InstalledAppFlow\n",
    "from google.auth.transport.requests import Request\n",
    "import pandas as pd\n",
    "\n",
    "# If modifying these scopes, delete the file token.pickle.\n",
    "SCOPES = ['https://www.googleapis.com/auth/calendar']"
   ]
  },
  {
   "cell_type": "markdown",
   "metadata": {},
   "source": [
    "### I. Some Preliminary Wrangling"
   ]
  },
  {
   "cell_type": "markdown",
   "metadata": {},
   "source": [
    "#### Import and One-shift Relative Risk Ratios"
   ]
  },
  {
   "cell_type": "code",
   "execution_count": 139,
   "metadata": {},
   "outputs": [],
   "source": [
    "risk_ratios = pd.read_csv('calendar_obscuration_risk.csv', index_col=0, names=['risk_ratio'])\n",
    "risk_ratios.index = risk_ratios.index + 1"
   ]
  },
  {
   "cell_type": "code",
   "execution_count": 140,
   "metadata": {},
   "outputs": [
    {
     "data": {
      "text/html": [
       "<div>\n",
       "<style scoped>\n",
       "    .dataframe tbody tr th:only-of-type {\n",
       "        vertical-align: middle;\n",
       "    }\n",
       "\n",
       "    .dataframe tbody tr th {\n",
       "        vertical-align: top;\n",
       "    }\n",
       "\n",
       "    .dataframe thead th {\n",
       "        text-align: right;\n",
       "    }\n",
       "</style>\n",
       "<table border=\"1\" class=\"dataframe\">\n",
       "  <thead>\n",
       "    <tr style=\"text-align: right;\">\n",
       "      <th></th>\n",
       "      <th>risk_ratio</th>\n",
       "    </tr>\n",
       "  </thead>\n",
       "  <tbody>\n",
       "    <tr>\n",
       "      <th>361</th>\n",
       "      <td>0.815217</td>\n",
       "    </tr>\n",
       "    <tr>\n",
       "      <th>362</th>\n",
       "      <td>0.983607</td>\n",
       "    </tr>\n",
       "    <tr>\n",
       "      <th>363</th>\n",
       "      <td>0.815217</td>\n",
       "    </tr>\n",
       "    <tr>\n",
       "      <th>364</th>\n",
       "      <td>0.815217</td>\n",
       "    </tr>\n",
       "    <tr>\n",
       "      <th>365</th>\n",
       "      <td>0.815217</td>\n",
       "    </tr>\n",
       "  </tbody>\n",
       "</table>\n",
       "</div>"
      ],
      "text/plain": [
       "     risk_ratio\n",
       "361    0.815217\n",
       "362    0.983607\n",
       "363    0.815217\n",
       "364    0.815217\n",
       "365    0.815217"
      ]
     },
     "execution_count": 140,
     "metadata": {},
     "output_type": "execute_result"
    }
   ],
   "source": [
    "risk_ratios.tail()"
   ]
  },
  {
   "cell_type": "markdown",
   "metadata": {},
   "source": [
    "#### Import Predictions and Remove Leap Years"
   ]
  },
  {
   "cell_type": "code",
   "execution_count": 141,
   "metadata": {},
   "outputs": [],
   "source": [
    "predictions = pd.read_csv('predictions.csv', index_col=0, names=['temp', 'hum', 'obsc'], header=0, parse_dates=True)\n",
    "mask = (predictions.index.date == 29) & (predictions.index.month == 2) # remove leap years\n",
    "predictions = predictions[~mask]"
   ]
  },
  {
   "cell_type": "code",
   "execution_count": 142,
   "metadata": {},
   "outputs": [
    {
     "data": {
      "text/html": [
       "<div>\n",
       "<style scoped>\n",
       "    .dataframe tbody tr th:only-of-type {\n",
       "        vertical-align: middle;\n",
       "    }\n",
       "\n",
       "    .dataframe tbody tr th {\n",
       "        vertical-align: top;\n",
       "    }\n",
       "\n",
       "    .dataframe thead th {\n",
       "        text-align: right;\n",
       "    }\n",
       "</style>\n",
       "<table border=\"1\" class=\"dataframe\">\n",
       "  <thead>\n",
       "    <tr style=\"text-align: right;\">\n",
       "      <th></th>\n",
       "      <th>temp</th>\n",
       "      <th>hum</th>\n",
       "      <th>obsc</th>\n",
       "    </tr>\n",
       "  </thead>\n",
       "  <tbody>\n",
       "    <tr>\n",
       "      <th>2020-03-26</th>\n",
       "      <td>62.913598</td>\n",
       "      <td>61.287053</td>\n",
       "      <td>2.339152</td>\n",
       "    </tr>\n",
       "    <tr>\n",
       "      <th>2020-03-27</th>\n",
       "      <td>62.642355</td>\n",
       "      <td>62.222780</td>\n",
       "      <td>2.222179</td>\n",
       "    </tr>\n",
       "    <tr>\n",
       "      <th>2020-03-28</th>\n",
       "      <td>62.470312</td>\n",
       "      <td>62.174295</td>\n",
       "      <td>2.342866</td>\n",
       "    </tr>\n",
       "    <tr>\n",
       "      <th>2020-03-29</th>\n",
       "      <td>62.418159</td>\n",
       "      <td>61.482002</td>\n",
       "      <td>2.259981</td>\n",
       "    </tr>\n",
       "    <tr>\n",
       "      <th>2020-03-30</th>\n",
       "      <td>62.304066</td>\n",
       "      <td>61.380211</td>\n",
       "      <td>2.337992</td>\n",
       "    </tr>\n",
       "  </tbody>\n",
       "</table>\n",
       "</div>"
      ],
      "text/plain": [
       "                 temp        hum      obsc\n",
       "2020-03-26  62.913598  61.287053  2.339152\n",
       "2020-03-27  62.642355  62.222780  2.222179\n",
       "2020-03-28  62.470312  62.174295  2.342866\n",
       "2020-03-29  62.418159  61.482002  2.259981\n",
       "2020-03-30  62.304066  61.380211  2.337992"
      ]
     },
     "execution_count": 142,
     "metadata": {},
     "output_type": "execute_result"
    }
   ],
   "source": [
    "predictions.tail()"
   ]
  },
  {
   "cell_type": "markdown",
   "metadata": {},
   "source": [
    "#### Join Predictions and Ratios into One Frame"
   ]
  },
  {
   "cell_type": "code",
   "execution_count": 143,
   "metadata": {
    "scrolled": false
   },
   "outputs": [
    {
     "data": {
      "text/html": [
       "<div>\n",
       "<style scoped>\n",
       "    .dataframe tbody tr th:only-of-type {\n",
       "        vertical-align: middle;\n",
       "    }\n",
       "\n",
       "    .dataframe tbody tr th {\n",
       "        vertical-align: top;\n",
       "    }\n",
       "\n",
       "    .dataframe thead th {\n",
       "        text-align: right;\n",
       "    }\n",
       "</style>\n",
       "<table border=\"1\" class=\"dataframe\">\n",
       "  <thead>\n",
       "    <tr style=\"text-align: right;\">\n",
       "      <th></th>\n",
       "      <th>temp</th>\n",
       "      <th>hum</th>\n",
       "      <th>obsc</th>\n",
       "      <th>dayofyear</th>\n",
       "    </tr>\n",
       "  </thead>\n",
       "  <tbody>\n",
       "    <tr>\n",
       "      <th>2014-01-01</th>\n",
       "      <td>61.714681</td>\n",
       "      <td>59.445071</td>\n",
       "      <td>2.448811</td>\n",
       "      <td>1</td>\n",
       "    </tr>\n",
       "    <tr>\n",
       "      <th>2014-01-02</th>\n",
       "      <td>61.591563</td>\n",
       "      <td>59.762634</td>\n",
       "      <td>2.494193</td>\n",
       "      <td>2</td>\n",
       "    </tr>\n",
       "    <tr>\n",
       "      <th>2014-01-03</th>\n",
       "      <td>61.534346</td>\n",
       "      <td>60.957980</td>\n",
       "      <td>2.343700</td>\n",
       "      <td>3</td>\n",
       "    </tr>\n",
       "    <tr>\n",
       "      <th>2014-01-04</th>\n",
       "      <td>61.590782</td>\n",
       "      <td>61.165513</td>\n",
       "      <td>2.424949</td>\n",
       "      <td>4</td>\n",
       "    </tr>\n",
       "    <tr>\n",
       "      <th>2014-01-05</th>\n",
       "      <td>61.777820</td>\n",
       "      <td>60.719809</td>\n",
       "      <td>2.297179</td>\n",
       "      <td>5</td>\n",
       "    </tr>\n",
       "  </tbody>\n",
       "</table>\n",
       "</div>"
      ],
      "text/plain": [
       "                 temp        hum      obsc  dayofyear\n",
       "2014-01-01  61.714681  59.445071  2.448811          1\n",
       "2014-01-02  61.591563  59.762634  2.494193          2\n",
       "2014-01-03  61.534346  60.957980  2.343700          3\n",
       "2014-01-04  61.590782  61.165513  2.424949          4\n",
       "2014-01-05  61.777820  60.719809  2.297179          5"
      ]
     },
     "execution_count": 143,
     "metadata": {},
     "output_type": "execute_result"
    }
   ],
   "source": [
    "# create day of year column\n",
    "predictions['dayofyear'] = predictions.index.dayofyear\n",
    "predictions.head()"
   ]
  },
  {
   "cell_type": "code",
   "execution_count": 144,
   "metadata": {},
   "outputs": [],
   "source": [
    "x = predictions\n",
    "x['dayofyear'] = x['dayofyear'].apply(lambda day: day - 1 if day > 60 else day)"
   ]
  },
  {
   "cell_type": "code",
   "execution_count": 145,
   "metadata": {},
   "outputs": [
    {
     "name": "stdout",
     "output_type": "stream",
     "text": [
      "<class 'pandas.core.frame.DataFrame'>\n",
      "DatetimeIndex: 2274 entries, 2014-01-01 to 2020-03-30\n",
      "Data columns (total 4 columns):\n",
      "temp         2274 non-null float64\n",
      "hum          2274 non-null float64\n",
      "obsc         2274 non-null float64\n",
      "dayofyear    2274 non-null int64\n",
      "dtypes: float64(3), int64(1)\n",
      "memory usage: 88.8 KB\n"
     ]
    }
   ],
   "source": [
    "predictions.info()"
   ]
  },
  {
   "cell_type": "code",
   "execution_count": 146,
   "metadata": {},
   "outputs": [],
   "source": [
    "# a helper function looks up the risk ratio by the day of the year\n",
    "def get_risk_ratio_by_dayofyear(row):\n",
    "    return risk_ratios.loc[row['dayofyear']]"
   ]
  },
  {
   "cell_type": "code",
   "execution_count": 147,
   "metadata": {},
   "outputs": [],
   "source": [
    "# add risk_ratio to prediction frame\n",
    "predictions['obscuration_risk_ratio'] = predictions.apply(get_risk_ratio_by_dayofyear, axis=1)"
   ]
  },
  {
   "cell_type": "code",
   "execution_count": 148,
   "metadata": {},
   "outputs": [
    {
     "data": {
      "text/html": [
       "<div>\n",
       "<style scoped>\n",
       "    .dataframe tbody tr th:only-of-type {\n",
       "        vertical-align: middle;\n",
       "    }\n",
       "\n",
       "    .dataframe tbody tr th {\n",
       "        vertical-align: top;\n",
       "    }\n",
       "\n",
       "    .dataframe thead th {\n",
       "        text-align: right;\n",
       "    }\n",
       "</style>\n",
       "<table border=\"1\" class=\"dataframe\">\n",
       "  <thead>\n",
       "    <tr style=\"text-align: right;\">\n",
       "      <th></th>\n",
       "      <th>temp</th>\n",
       "      <th>hum</th>\n",
       "      <th>obsc</th>\n",
       "      <th>obscuration_risk_ratio</th>\n",
       "    </tr>\n",
       "  </thead>\n",
       "  <tbody>\n",
       "    <tr>\n",
       "      <th>2014-01-01</th>\n",
       "      <td>61.714681</td>\n",
       "      <td>59.445071</td>\n",
       "      <td>2.448811</td>\n",
       "      <td>1.022727</td>\n",
       "    </tr>\n",
       "    <tr>\n",
       "      <th>2014-01-02</th>\n",
       "      <td>61.591563</td>\n",
       "      <td>59.762634</td>\n",
       "      <td>2.494193</td>\n",
       "      <td>1.022727</td>\n",
       "    </tr>\n",
       "    <tr>\n",
       "      <th>2014-01-03</th>\n",
       "      <td>61.534346</td>\n",
       "      <td>60.957980</td>\n",
       "      <td>2.343700</td>\n",
       "      <td>0.847458</td>\n",
       "    </tr>\n",
       "    <tr>\n",
       "      <th>2014-01-04</th>\n",
       "      <td>61.590782</td>\n",
       "      <td>61.165513</td>\n",
       "      <td>2.424949</td>\n",
       "      <td>1.022727</td>\n",
       "    </tr>\n",
       "    <tr>\n",
       "      <th>2014-01-05</th>\n",
       "      <td>61.777820</td>\n",
       "      <td>60.719809</td>\n",
       "      <td>2.297179</td>\n",
       "      <td>1.200000</td>\n",
       "    </tr>\n",
       "  </tbody>\n",
       "</table>\n",
       "</div>"
      ],
      "text/plain": [
       "                 temp        hum      obsc  obscuration_risk_ratio\n",
       "2014-01-01  61.714681  59.445071  2.448811                1.022727\n",
       "2014-01-02  61.591563  59.762634  2.494193                1.022727\n",
       "2014-01-03  61.534346  60.957980  2.343700                0.847458\n",
       "2014-01-04  61.590782  61.165513  2.424949                1.022727\n",
       "2014-01-05  61.777820  60.719809  2.297179                1.200000"
      ]
     },
     "execution_count": 148,
     "metadata": {},
     "output_type": "execute_result"
    }
   ],
   "source": [
    "# drop dayof year\n",
    "predictions = predictions.drop(columns=['dayofyear'])\n",
    "predictions.head()"
   ]
  },
  {
   "cell_type": "markdown",
   "metadata": {},
   "source": [
    "### II. Generate and Post Each Daily Prediction String for the Rest of 2019"
   ]
  },
  {
   "cell_type": "code",
   "execution_count": 149,
   "metadata": {},
   "outputs": [
    {
     "data": {
      "text/plain": [
       "(2274, 4)"
      ]
     },
     "execution_count": 149,
     "metadata": {},
     "output_type": "execute_result"
    }
   ],
   "source": [
    "x = predictions"
   ]
  },
  {
   "cell_type": "markdown",
   "metadata": {},
   "source": [
    "#### Setup"
   ]
  },
  {
   "cell_type": "code",
   "execution_count": 150,
   "metadata": {},
   "outputs": [],
   "source": [
    "# calendar setup\n",
    "creds = None\n",
    "# The file token.pickle stores the user's access and refresh tokens, and is\n",
    "# created automatically when the authorization flow completes for the first\n",
    "# time.\n",
    "if os.path.exists('token.pickle'):\n",
    "    with open('token.pickle', 'rb') as token:\n",
    "        creds = pickle.load(token)\n",
    "\n",
    "         # If there are no (valid) credentials available, let the user log in.\n",
    "if not creds or not creds.valid:\n",
    "    if creds and creds.expired and creds.refresh_token:\n",
    "        creds.refresh(Request())\n",
    "    else:\n",
    "        flow = InstalledAppFlow.from_client_secrets_file(\n",
    "            'credentials.json', SCOPES)\n",
    "        creds = flow.run_local_server(port=0)\n",
    "    # Save the credentials for the next run\n",
    "    with open('token.pickle', 'wb') as token:\n",
    "        pickle.dump(creds, token)\n",
    "\n",
    "service = build('calendar', 'v3', credentials=creds) # uncomment to sign in"
   ]
  },
  {
   "cell_type": "code",
   "execution_count": 151,
   "metadata": {},
   "outputs": [
    {
     "name": "stdout",
     "output_type": "stream",
     "text": [
      "reader : UCSD Grad Programming\n",
      "reader : Friedensinstallation\n",
      "writer : CPMC 122\n",
      "writer : Abjad\n",
      "owner : Monterey Event Planner Weather Guide\n",
      "owner : Jeff Trevino's Schedule\n",
      "owner : nCoda\n",
      "writer : potocalendar@gmail.com\n",
      "reader : Holidays in United States\n",
      "reader : Phases of the Moon\n",
      "reader : Weather\n"
     ]
    }
   ],
   "source": [
    "# get a calendar list\n",
    "page_token = None\n",
    "while True:\n",
    "  calendar_list = service.calendarList().list(pageToken=page_token).execute()\n",
    "  for calendar_list_entry in calendar_list['items']:\n",
    "    print(calendar_list_entry['accessRole'], \":\", calendar_list_entry['summary'])\n",
    "  page_token = calendar_list.get('nextPageToken')\n",
    "  if not page_token:\n",
    "    break"
   ]
  },
  {
   "cell_type": "code",
   "execution_count": 152,
   "metadata": {},
   "outputs": [
    {
     "data": {
      "text/plain": [
       "'spud2s1a652omabq2nt605i69o@group.calendar.google.com'"
      ]
     },
     "execution_count": 152,
     "metadata": {},
     "output_type": "execute_result"
    }
   ],
   "source": [
    "# get calendar id\n",
    "el_cid = calendar_list['items'][4]['id']\n",
    "el_cid"
   ]
  },
  {
   "cell_type": "markdown",
   "metadata": {},
   "source": [
    "#### Clear Calendar"
   ]
  },
  {
   "cell_type": "code",
   "execution_count": 153,
   "metadata": {},
   "outputs": [],
   "source": [
    "# service.calendars().clear(calendarId=el_cid).execute() \n",
    "# This doesn't work, and it's easier to manually delete the calendar and create a new one."
   ]
  },
  {
   "cell_type": "markdown",
   "metadata": {},
   "source": [
    "#### Generate Events and Save Event IDs"
   ]
  },
  {
   "cell_type": "markdown",
   "metadata": {},
   "source": [
    "#### Define A Function That Does Everything That Must Be Done By Recruiting Some Helpers..."
   ]
  },
  {
   "cell_type": "code",
   "execution_count": 154,
   "metadata": {},
   "outputs": [],
   "source": [
    "def build_daily_string(row):\n",
    "    the_string = ''\n",
    "    the_string += 'temp: ' + '{:.0f}'.format(row['temp']) + ' F ' + '\\n'\n",
    "    the_string += 'hum: ' + '{:.0f}'.format(row['hum']) + '%' + '\\n'\n",
    "    the_string += 'obsc(0-8): ' + '{:.0f}'.format(row['obsc']) + '\\n'\n",
    "    the_string += 'ORR: ' + '{:.2f}'.format(row['obscuration_risk_ratio']) + '\\n'\n",
    "    return the_string"
   ]
  },
  {
   "cell_type": "code",
   "execution_count": 155,
   "metadata": {},
   "outputs": [],
   "source": [
    "def make_event_body(date_string, the_string):\n",
    "    body = {'summary': the_string, \n",
    "             'location': 'Monterey Airport',\n",
    "             'description': 'A weather prediction for event planners',\n",
    "             'start': {\n",
    "                 'date': date_string\n",
    "             },\n",
    "             'end': {\n",
    "                 'date': date_string\n",
    "             },\n",
    "            }\n",
    "    return body"
   ]
  },
  {
   "cell_type": "code",
   "execution_count": 156,
   "metadata": {},
   "outputs": [],
   "source": [
    "def make_event_metadata(row, eid, cid, service):\n",
    "    # define a patch (the info to add in custom fields)\n",
    "    body = {\n",
    "      'extendedProperties': {\n",
    "        'private': {\n",
    "            'temperature': '{:.0f}'.format(row['temp']) + ' F ',\n",
    "            'humidity': '{:.0f}'.format(row['hum']) + '%',\n",
    "            'obscuration(0-8)': '{:.0f}'.format(row['obsc']),\n",
    "            'obscuration risk ratio': '{:.2f}'.format(row['obscuration_risk_ratio'])\n",
    "        }\n",
    "      }\n",
    "    }\n",
    "    "
   ]
  },
  {
   "cell_type": "code",
   "execution_count": 157,
   "metadata": {},
   "outputs": [],
   "source": [
    "def event_from_row(row, cid):\n",
    "    date_string = str(index.date())\n",
    "    event_summary_string = build_daily_string(row)\n",
    "    mr_body = make_event_body(date_string, event_summary_string)\n",
    "    event = service.events().insert(calendarId=cid, body=mr_body).execute()\n",
    "#     print('Event created: %s' % (event.get('htmlLink')))\n",
    "#     so_meta = make_event_metadata(row, event['id'], cid, service)\n",
    "#     service.events().patch(calendarId=cid, eventId=event['id'], body=so_meta).execute()"
   ]
  },
  {
   "cell_type": "markdown",
   "metadata": {},
   "source": [
    "#### ...and then Do Everything That Must Be Done"
   ]
  },
  {
   "cell_type": "code",
   "execution_count": 158,
   "metadata": {
    "scrolled": true
   },
   "outputs": [
    {
     "data": {
      "text/html": [
       "<div>\n",
       "<style scoped>\n",
       "    .dataframe tbody tr th:only-of-type {\n",
       "        vertical-align: middle;\n",
       "    }\n",
       "\n",
       "    .dataframe tbody tr th {\n",
       "        vertical-align: top;\n",
       "    }\n",
       "\n",
       "    .dataframe thead th {\n",
       "        text-align: right;\n",
       "    }\n",
       "</style>\n",
       "<table border=\"1\" class=\"dataframe\">\n",
       "  <thead>\n",
       "    <tr style=\"text-align: right;\">\n",
       "      <th></th>\n",
       "      <th>temp</th>\n",
       "      <th>hum</th>\n",
       "      <th>obsc</th>\n",
       "      <th>obscuration_risk_ratio</th>\n",
       "    </tr>\n",
       "  </thead>\n",
       "  <tbody>\n",
       "    <tr>\n",
       "      <th>2019-12-27</th>\n",
       "      <td>59.750114</td>\n",
       "      <td>59.649280</td>\n",
       "      <td>3.200220</td>\n",
       "      <td>0.648649</td>\n",
       "    </tr>\n",
       "    <tr>\n",
       "      <th>2019-12-28</th>\n",
       "      <td>59.722972</td>\n",
       "      <td>59.820768</td>\n",
       "      <td>3.292152</td>\n",
       "      <td>0.815217</td>\n",
       "    </tr>\n",
       "    <tr>\n",
       "      <th>2019-12-29</th>\n",
       "      <td>59.826789</td>\n",
       "      <td>59.372429</td>\n",
       "      <td>3.173228</td>\n",
       "      <td>0.983607</td>\n",
       "    </tr>\n",
       "    <tr>\n",
       "      <th>2019-12-30</th>\n",
       "      <td>59.876462</td>\n",
       "      <td>59.532110</td>\n",
       "      <td>3.208347</td>\n",
       "      <td>0.815217</td>\n",
       "    </tr>\n",
       "    <tr>\n",
       "      <th>2019-12-31</th>\n",
       "      <td>60.050668</td>\n",
       "      <td>59.008796</td>\n",
       "      <td>2.937333</td>\n",
       "      <td>0.815217</td>\n",
       "    </tr>\n",
       "  </tbody>\n",
       "</table>\n",
       "</div>"
      ],
      "text/plain": [
       "                 temp        hum      obsc  obscuration_risk_ratio\n",
       "2019-12-27  59.750114  59.649280  3.200220                0.648649\n",
       "2019-12-28  59.722972  59.820768  3.292152                0.815217\n",
       "2019-12-29  59.826789  59.372429  3.173228                0.983607\n",
       "2019-12-30  59.876462  59.532110  3.208347                0.815217\n",
       "2019-12-31  60.050668  59.008796  2.937333                0.815217"
      ]
     },
     "execution_count": 158,
     "metadata": {},
     "output_type": "execute_result"
    }
   ],
   "source": [
    "mask = (predictions.index.year >= 2019) & (predictions.index.month >= 9)\n",
    "predictions = predictions[mask]\n",
    "predictions.tail()"
   ]
  },
  {
   "cell_type": "code",
   "execution_count": 164,
   "metadata": {},
   "outputs": [
    {
     "data": {
      "text/html": [
       "<div>\n",
       "<style scoped>\n",
       "    .dataframe tbody tr th:only-of-type {\n",
       "        vertical-align: middle;\n",
       "    }\n",
       "\n",
       "    .dataframe tbody tr th {\n",
       "        vertical-align: top;\n",
       "    }\n",
       "\n",
       "    .dataframe thead th {\n",
       "        text-align: right;\n",
       "    }\n",
       "</style>\n",
       "<table border=\"1\" class=\"dataframe\">\n",
       "  <thead>\n",
       "    <tr style=\"text-align: right;\">\n",
       "      <th></th>\n",
       "      <th>temp</th>\n",
       "      <th>hum</th>\n",
       "      <th>obsc</th>\n",
       "      <th>obscuration_risk_ratio</th>\n",
       "    </tr>\n",
       "  </thead>\n",
       "  <tbody>\n",
       "    <tr>\n",
       "      <th>2019-12-27</th>\n",
       "      <td>59.750114</td>\n",
       "      <td>59.649280</td>\n",
       "      <td>3.200220</td>\n",
       "      <td>0.648649</td>\n",
       "    </tr>\n",
       "    <tr>\n",
       "      <th>2019-12-28</th>\n",
       "      <td>59.722972</td>\n",
       "      <td>59.820768</td>\n",
       "      <td>3.292152</td>\n",
       "      <td>0.815217</td>\n",
       "    </tr>\n",
       "    <tr>\n",
       "      <th>2019-12-29</th>\n",
       "      <td>59.826789</td>\n",
       "      <td>59.372429</td>\n",
       "      <td>3.173228</td>\n",
       "      <td>0.983607</td>\n",
       "    </tr>\n",
       "    <tr>\n",
       "      <th>2019-12-30</th>\n",
       "      <td>59.876462</td>\n",
       "      <td>59.532110</td>\n",
       "      <td>3.208347</td>\n",
       "      <td>0.815217</td>\n",
       "    </tr>\n",
       "    <tr>\n",
       "      <th>2019-12-31</th>\n",
       "      <td>60.050668</td>\n",
       "      <td>59.008796</td>\n",
       "      <td>2.937333</td>\n",
       "      <td>0.815217</td>\n",
       "    </tr>\n",
       "  </tbody>\n",
       "</table>\n",
       "</div>"
      ],
      "text/plain": [
       "                 temp        hum      obsc  obscuration_risk_ratio\n",
       "2019-12-27  59.750114  59.649280  3.200220                0.648649\n",
       "2019-12-28  59.722972  59.820768  3.292152                0.815217\n",
       "2019-12-29  59.826789  59.372429  3.173228                0.983607\n",
       "2019-12-30  59.876462  59.532110  3.208347                0.815217\n",
       "2019-12-31  60.050668  59.008796  2.937333                0.815217"
      ]
     },
     "execution_count": 164,
     "metadata": {},
     "output_type": "execute_result"
    }
   ],
   "source": [
    "# get ahold of the end of 2019\n",
    "rest_of_nineteen = predictions.loc['2019-09-01':'2019-12-31']"
   ]
  },
  {
   "cell_type": "code",
   "execution_count": 165,
   "metadata": {},
   "outputs": [],
   "source": [
    "# post predictions for rest of 2019 to calendar\n",
    "for index, row in rest_of_nineteen.iterrows():\n",
    "    date_string = str(index.date())\n",
    "    event_summary_string = build_daily_string(row)\n",
    "    mr_body = make_event_body(date_string, event_summary_string)\n",
    "    service.events().insert(calendarId=el_cid, body=mr_body).execute()"
   ]
  }
 ],
 "metadata": {
  "kernelspec": {
   "display_name": "Python 3",
   "language": "python",
   "name": "python3"
  },
  "language_info": {
   "codemirror_mode": {
    "name": "ipython",
    "version": 3
   },
   "file_extension": ".py",
   "mimetype": "text/x-python",
   "name": "python",
   "nbconvert_exporter": "python",
   "pygments_lexer": "ipython3",
   "version": "3.7.3"
  }
 },
 "nbformat": 4,
 "nbformat_minor": 2
}
